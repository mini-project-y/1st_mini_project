{
 "cells": [
  {
   "cell_type": "markdown",
   "metadata": {},
   "source": [
    "db에서 불러오기"
   ]
  },
  {
   "cell_type": "code",
   "execution_count": 5,
   "metadata": {},
   "outputs": [],
   "source": [
    "import pandas as pd\n",
    "import numpy as np\n",
    "import matplotlib.pyplot as plt\n",
    "import seaborn as sns\n",
    "import pymysql\n",
    "# from sqlalchemy import create_engine"
   ]
  },
  {
   "cell_type": "code",
   "execution_count": 8,
   "metadata": {},
   "outputs": [],
   "source": [
    "# 1. 데이터베이스 연결 -> 연결 객체 반환\n",
    "conn = pymysql.connect(host=\"localhost\", port=3306, db=\"mp\",\n",
    "                       user=\"root\", passwd=\"1234\")\n",
    "\n",
    "# 2. 명령 도구 만들기\n",
    "cursor = conn.cursor()"
   ]
  },
  {
   "cell_type": "code",
   "execution_count": 9,
   "metadata": {},
   "outputs": [
    {
     "name": "stdout",
     "output_type": "stream",
     "text": [
      "(108, '서울', datetime.datetime(2021, 1, 1, 0, 0), 36)\n",
      "(108, '서울', datetime.datetime(2021, 1, 2, 0, 0), 43)\n",
      "(108, '서울', datetime.datetime(2021, 1, 3, 0, 0), 47)\n",
      "(108, '서울', datetime.datetime(2021, 1, 4, 0, 0), 50)\n",
      "(108, '서울', datetime.datetime(2021, 1, 5, 0, 0), 37)\n",
      "(108, '서울', datetime.datetime(2021, 1, 6, 0, 0), 30)\n",
      "(108, '서울', datetime.datetime(2021, 1, 7, 0, 0), 56)\n",
      "(108, '서울', datetime.datetime(2021, 1, 8, 0, 0), 27)\n",
      "(108, '서울', datetime.datetime(2021, 1, 9, 0, 0), 33)\n",
      "(108, '서울', datetime.datetime(2021, 1, 10, 0, 0), 48)\n"
     ]
    }
   ],
   "source": [
    "# 3. SQL 작성 + 명령 실행 ( 조회 명령 )\n",
    "sql = \"\"\"select * from fine_dust\"\"\"\n",
    "cursor.execute(sql)\n",
    "\n",
    "# 4. 조회 결과 읽기\n",
    "fd_df = cursor.fetchall()\n",
    "\n",
    "# 5. 데이터 처리 (표시)\n",
    "for fd in fd_df[:10]:\n",
    "    print(fd)"
   ]
  },
  {
   "cell_type": "code",
   "execution_count": null,
   "metadata": {},
   "outputs": [],
   "source": []
  }
 ],
 "metadata": {
  "kernelspec": {
   "display_name": "human-da-env",
   "language": "python",
   "name": "python3"
  },
  "language_info": {
   "codemirror_mode": {
    "name": "ipython",
    "version": 3
   },
   "file_extension": ".py",
   "mimetype": "text/x-python",
   "name": "python",
   "nbconvert_exporter": "python",
   "pygments_lexer": "ipython3",
   "version": "3.12.7"
  }
 },
 "nbformat": 4,
 "nbformat_minor": 2
}
