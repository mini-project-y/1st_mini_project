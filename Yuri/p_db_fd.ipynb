{
 "cells": [
  {
   "cell_type": "markdown",
   "metadata": {},
   "source": [
    "db에서 불러오기"
   ]
  },
  {
   "cell_type": "code",
   "execution_count": null,
   "metadata": {},
   "outputs": [],
   "source": [
    "import pandas as pd\n",
    "from pandas.api.types import CategoricalDtype\n",
    "import numpy as np\n",
    "import matplotlib.pyplot as plt\n",
    "import seaborn as sns\n",
    "import pymysql\n",
    "# from sqlalchemy import create_engine"
   ]
  },
  {
   "cell_type": "code",
   "execution_count": null,
   "metadata": {},
   "outputs": [],
   "source": [
    "# 1. 데이터베이스 연결 -> 연결 객체 반환\n",
    "conn = pymysql.connect(host=\"localhost\", port=3306, db=\"mp\",\n",
    "                       user=\"root\", passwd=\"1234\", cursorclass=pymysql.cursors.DictCursor)\n",
    "\n",
    "cursor = conn.cursor()"
   ]
  },
  {
   "cell_type": "code",
   "execution_count": null,
   "metadata": {},
   "outputs": [],
   "source": [
    "# 3. SQL 작성 + 명령 실행 ( 조회 명령 )\n",
    "sql = \"\"\"select * from fine_dust\"\"\"\n",
    "cursor.execute(sql)\n",
    "result = cursor.fetchall()\n",
    "result"
   ]
  },
  {
   "cell_type": "code",
   "execution_count": null,
   "metadata": {},
   "outputs": [],
   "source": [
    "fine_dust_df = pd.DataFrame(result)\n",
    "fine_dust_df.head()"
   ]
  },
  {
   "cell_type": "code",
   "execution_count": null,
   "metadata": {},
   "outputs": [],
   "source": [
    "conn.close()\n",
    "cursor.close()"
   ]
  },
  {
   "cell_type": "code",
   "execution_count": null,
   "metadata": {},
   "outputs": [],
   "source": [
    "fine_dust_df.to_csv('./data/fine_dust.csv')"
   ]
  },
  {
   "cell_type": "markdown",
   "metadata": {},
   "source": [
    "### db 종료 후 DF으로 작업하기 (여기서부터 시작)"
   ]
  },
  {
   "cell_type": "code",
   "execution_count": null,
   "metadata": {},
   "outputs": [],
   "source": [
    "import pandas as pd\n",
    "from pandas.api.types import CategoricalDtype\n",
    "import numpy as np\n",
    "import matplotlib.pyplot as plt\n",
    "import seaborn as sns\n",
    "import pymysql\n",
    "# from sqlalchemy import create_engine\n",
    "\n",
    "# !pip install scikit-learn\n",
    "from sklearn.preprocessing import MinMaxScaler"
   ]
  },
  {
   "cell_type": "code",
   "execution_count": 2,
   "metadata": {},
   "outputs": [],
   "source": [
    "import matplotlib.pyplot as plt\n",
    "plt.rcParams['font.family'] ='Malgun Gothic'\n",
    "plt.rcParams['axes.unicode_minus'] =False\n"
   ]
  },
  {
   "cell_type": "code",
   "execution_count": 3,
   "metadata": {},
   "outputs": [
    {
     "data": {
      "text/plain": [
       "Index(['Unnamed: 0', 'station_id', 'station_name', 'date', 'fine_dust(㎍/㎥)'], dtype='object')"
      ]
     },
     "execution_count": 3,
     "metadata": {},
     "output_type": "execute_result"
    }
   ],
   "source": [
    "fine_dust_df = pd.read_csv('./data/fine_dust.csv')\n",
    "fine_dust_df.columns"
   ]
  },
  {
   "cell_type": "code",
   "execution_count": 4,
   "metadata": {},
   "outputs": [
    {
     "name": "stdout",
     "output_type": "stream",
     "text": [
      "<class 'pandas.core.frame.DataFrame'>\n",
      "RangeIndex: 1323 entries, 0 to 1322\n",
      "Data columns (total 2 columns):\n",
      " #   Column          Non-Null Count  Dtype \n",
      "---  ------          --------------  ----- \n",
      " 0   date            1323 non-null   object\n",
      " 1   fine_dust(㎍/㎥)  1323 non-null   int64 \n",
      "dtypes: int64(1), object(1)\n",
      "memory usage: 20.8+ KB\n"
     ]
    }
   ],
   "source": [
    "# 필요 컬럼만 자르기\n",
    "fine_dust = fine_dust_df.loc[:, ['date', 'fine_dust(㎍/㎥)']] # 잘랐으면 비활성화 안 잘랐으면 활성화\n",
    "fine_dust.info()"
   ]
  },
  {
   "cell_type": "code",
   "execution_count": 5,
   "metadata": {},
   "outputs": [
    {
     "data": {
      "text/html": [
       "<div>\n",
       "<style scoped>\n",
       "    .dataframe tbody tr th:only-of-type {\n",
       "        vertical-align: middle;\n",
       "    }\n",
       "\n",
       "    .dataframe tbody tr th {\n",
       "        vertical-align: top;\n",
       "    }\n",
       "\n",
       "    .dataframe thead th {\n",
       "        text-align: right;\n",
       "    }\n",
       "</style>\n",
       "<table border=\"1\" class=\"dataframe\">\n",
       "  <thead>\n",
       "    <tr style=\"text-align: right;\">\n",
       "      <th></th>\n",
       "      <th>date</th>\n",
       "      <th>fine_dust(㎍/㎥)</th>\n",
       "      <th>grade</th>\n",
       "    </tr>\n",
       "  </thead>\n",
       "  <tbody>\n",
       "    <tr>\n",
       "      <th>0</th>\n",
       "      <td>2021-01-01</td>\n",
       "      <td>36</td>\n",
       "      <td>normal</td>\n",
       "    </tr>\n",
       "    <tr>\n",
       "      <th>1</th>\n",
       "      <td>2021-01-02</td>\n",
       "      <td>43</td>\n",
       "      <td>normal</td>\n",
       "    </tr>\n",
       "  </tbody>\n",
       "</table>\n",
       "</div>"
      ],
      "text/plain": [
       "         date  fine_dust(㎍/㎥)   grade\n",
       "0  2021-01-01              36  normal\n",
       "1  2021-01-02              43  normal"
      ]
     },
     "execution_count": 5,
     "metadata": {},
     "output_type": "execute_result"
    }
   ],
   "source": [
    "# 좋음 (0-30 ㎍/m³) → Good\n",
    "# 보통 (31-80 ㎍/m³) → Moderate\n",
    "# 나쁨 (81-150 ㎍/m³) → Bad\n",
    "# 매우 나쁨 (151 ㎍/m³ 이상) → Very Bad\n",
    "\n",
    "# 새로운 컬럼을 생성하고 조건에 따라 값 입력\n",
    "\n",
    "conditionlist = [\n",
    "    (fine_dust['fine_dust(㎍/㎥)'] <= 30),\n",
    "    (fine_dust['fine_dust(㎍/㎥)'] > 30) & (fine_dust['fine_dust(㎍/㎥)'] <= 80),\n",
    "    (fine_dust['fine_dust(㎍/㎥)'] > 80) & (fine_dust['fine_dust(㎍/㎥)'] <= 150),\n",
    "    (fine_dust['fine_dust(㎍/㎥)'] > 150),\n",
    "]\n",
    "\n",
    "values = ['good', 'normal', 'bad', 'very_bad']\n",
    "\n",
    "fine_dust[\"grade\"] = np.select(conditionlist, values, default=\"unknown\")\n",
    "fine_dust.head(2)"
   ]
  },
  {
   "cell_type": "markdown",
   "metadata": {},
   "source": [
    "fine_dust의 date의 타입 변경 후 평일/주말 나누기"
   ]
  },
  {
   "cell_type": "code",
   "execution_count": 6,
   "metadata": {},
   "outputs": [
    {
     "name": "stdout",
     "output_type": "stream",
     "text": [
      "<class 'pandas.core.frame.DataFrame'>\n",
      "RangeIndex: 1323 entries, 0 to 1322\n",
      "Data columns (total 3 columns):\n",
      " #   Column          Non-Null Count  Dtype \n",
      "---  ------          --------------  ----- \n",
      " 0   date            1323 non-null   object\n",
      " 1   fine_dust(㎍/㎥)  1323 non-null   int64 \n",
      " 2   grade           1323 non-null   object\n",
      "dtypes: int64(1), object(2)\n",
      "memory usage: 31.1+ KB\n"
     ]
    }
   ],
   "source": [
    "fine_dust.info() # date 타입이 object임을 확인\n",
    "fine_dust['date'] = pd.to_datetime(fine_dust['date'])\n",
    "# fine_dust.info() # date타입이 datetime64[ns]으로 변경됨"
   ]
  },
  {
   "cell_type": "code",
   "execution_count": 7,
   "metadata": {},
   "outputs": [
    {
     "data": {
      "text/html": [
       "<div>\n",
       "<style scoped>\n",
       "    .dataframe tbody tr th:only-of-type {\n",
       "        vertical-align: middle;\n",
       "    }\n",
       "\n",
       "    .dataframe tbody tr th {\n",
       "        vertical-align: top;\n",
       "    }\n",
       "\n",
       "    .dataframe thead th {\n",
       "        text-align: right;\n",
       "    }\n",
       "</style>\n",
       "<table border=\"1\" class=\"dataframe\">\n",
       "  <thead>\n",
       "    <tr style=\"text-align: right;\">\n",
       "      <th></th>\n",
       "      <th>date</th>\n",
       "      <th>fine_dust(㎍/㎥)</th>\n",
       "      <th>grade</th>\n",
       "      <th>day</th>\n",
       "    </tr>\n",
       "  </thead>\n",
       "  <tbody>\n",
       "    <tr>\n",
       "      <th>0</th>\n",
       "      <td>2021-01-01</td>\n",
       "      <td>36</td>\n",
       "      <td>normal</td>\n",
       "      <td>weekday</td>\n",
       "    </tr>\n",
       "    <tr>\n",
       "      <th>1</th>\n",
       "      <td>2021-01-02</td>\n",
       "      <td>43</td>\n",
       "      <td>normal</td>\n",
       "      <td>weekend</td>\n",
       "    </tr>\n",
       "    <tr>\n",
       "      <th>2</th>\n",
       "      <td>2021-01-03</td>\n",
       "      <td>47</td>\n",
       "      <td>normal</td>\n",
       "      <td>weekend</td>\n",
       "    </tr>\n",
       "    <tr>\n",
       "      <th>3</th>\n",
       "      <td>2021-01-04</td>\n",
       "      <td>50</td>\n",
       "      <td>normal</td>\n",
       "      <td>weekday</td>\n",
       "    </tr>\n",
       "    <tr>\n",
       "      <th>4</th>\n",
       "      <td>2021-01-05</td>\n",
       "      <td>37</td>\n",
       "      <td>normal</td>\n",
       "      <td>weekday</td>\n",
       "    </tr>\n",
       "    <tr>\n",
       "      <th>...</th>\n",
       "      <td>...</td>\n",
       "      <td>...</td>\n",
       "      <td>...</td>\n",
       "      <td>...</td>\n",
       "    </tr>\n",
       "    <tr>\n",
       "      <th>1318</th>\n",
       "      <td>2024-10-25</td>\n",
       "      <td>29</td>\n",
       "      <td>good</td>\n",
       "      <td>weekday</td>\n",
       "    </tr>\n",
       "    <tr>\n",
       "      <th>1319</th>\n",
       "      <td>2024-10-26</td>\n",
       "      <td>26</td>\n",
       "      <td>good</td>\n",
       "      <td>weekend</td>\n",
       "    </tr>\n",
       "    <tr>\n",
       "      <th>1320</th>\n",
       "      <td>2024-10-27</td>\n",
       "      <td>27</td>\n",
       "      <td>good</td>\n",
       "      <td>weekend</td>\n",
       "    </tr>\n",
       "    <tr>\n",
       "      <th>1321</th>\n",
       "      <td>2024-10-28</td>\n",
       "      <td>38</td>\n",
       "      <td>normal</td>\n",
       "      <td>weekday</td>\n",
       "    </tr>\n",
       "    <tr>\n",
       "      <th>1322</th>\n",
       "      <td>2024-10-30</td>\n",
       "      <td>28</td>\n",
       "      <td>good</td>\n",
       "      <td>weekday</td>\n",
       "    </tr>\n",
       "  </tbody>\n",
       "</table>\n",
       "<p>1323 rows × 4 columns</p>\n",
       "</div>"
      ],
      "text/plain": [
       "           date  fine_dust(㎍/㎥)   grade      day\n",
       "0    2021-01-01              36  normal  weekday\n",
       "1    2021-01-02              43  normal  weekend\n",
       "2    2021-01-03              47  normal  weekend\n",
       "3    2021-01-04              50  normal  weekday\n",
       "4    2021-01-05              37  normal  weekday\n",
       "...         ...             ...     ...      ...\n",
       "1318 2024-10-25              29    good  weekday\n",
       "1319 2024-10-26              26    good  weekend\n",
       "1320 2024-10-27              27    good  weekend\n",
       "1321 2024-10-28              38  normal  weekday\n",
       "1322 2024-10-30              28    good  weekday\n",
       "\n",
       "[1323 rows x 4 columns]"
      ]
     },
     "execution_count": 7,
     "metadata": {},
     "output_type": "execute_result"
    }
   ],
   "source": [
    "# fine_dust[\"date\"]에 따라 평일, 주말 나누기(월~금 : 0~4, 토일 : 5, 6)\n",
    "fine_dust[\"day\"] = np.where(fine_dust[\"date\"].dt.weekday < 5, \"weekday\", \"weekend\")\n",
    "fine_dust\n"
   ]
  },
  {
   "cell_type": "markdown",
   "metadata": {},
   "source": [
    "공휴일 데이터인 hd의 date의 타입 변경"
   ]
  },
  {
   "cell_type": "code",
   "execution_count": 8,
   "metadata": {},
   "outputs": [
    {
     "name": "stdout",
     "output_type": "stream",
     "text": [
      "<class 'pandas.core.frame.DataFrame'>\n",
      "RangeIndex: 66 entries, 0 to 65\n",
      "Data columns (total 2 columns):\n",
      " #   Column    Non-Null Count  Dtype         \n",
      "---  ------    --------------  -----         \n",
      " 0   date      66 non-null     datetime64[ns]\n",
      " 1   dateName  66 non-null     object        \n",
      "dtypes: datetime64[ns](1), object(1)\n",
      "memory usage: 1.2+ KB\n"
     ]
    }
   ],
   "source": [
    "hd = pd.read_csv('./data/hd_21_24.csv', encoding=\"CP949\")\n",
    "hd.rename(columns={\"일시\":\"date\"}, inplace=True)\n",
    "hd['date'] = pd.to_datetime(hd['date'])\n",
    "hd.info()"
   ]
  },
  {
   "cell_type": "markdown",
   "metadata": {},
   "source": [
    "fine_dust['merge_day'] 만들어서 평일/주말+공휴일로 나누기"
   ]
  },
  {
   "cell_type": "code",
   "execution_count": 9,
   "metadata": {},
   "outputs": [
    {
     "data": {
      "text/html": [
       "<div>\n",
       "<style scoped>\n",
       "    .dataframe tbody tr th:only-of-type {\n",
       "        vertical-align: middle;\n",
       "    }\n",
       "\n",
       "    .dataframe tbody tr th {\n",
       "        vertical-align: top;\n",
       "    }\n",
       "\n",
       "    .dataframe thead th {\n",
       "        text-align: right;\n",
       "    }\n",
       "</style>\n",
       "<table border=\"1\" class=\"dataframe\">\n",
       "  <thead>\n",
       "    <tr style=\"text-align: right;\">\n",
       "      <th></th>\n",
       "      <th>date</th>\n",
       "      <th>fine_dust(㎍/㎥)</th>\n",
       "      <th>grade</th>\n",
       "      <th>day</th>\n",
       "      <th>dateName</th>\n",
       "    </tr>\n",
       "  </thead>\n",
       "  <tbody>\n",
       "    <tr>\n",
       "      <th>0</th>\n",
       "      <td>2021-01-01</td>\n",
       "      <td>36.0</td>\n",
       "      <td>normal</td>\n",
       "      <td>weekday</td>\n",
       "      <td>1월1일</td>\n",
       "    </tr>\n",
       "    <tr>\n",
       "      <th>1</th>\n",
       "      <td>2021-01-02</td>\n",
       "      <td>43.0</td>\n",
       "      <td>normal</td>\n",
       "      <td>weekend</td>\n",
       "      <td>NaN</td>\n",
       "    </tr>\n",
       "    <tr>\n",
       "      <th>2</th>\n",
       "      <td>2021-01-03</td>\n",
       "      <td>47.0</td>\n",
       "      <td>normal</td>\n",
       "      <td>weekend</td>\n",
       "      <td>NaN</td>\n",
       "    </tr>\n",
       "    <tr>\n",
       "      <th>3</th>\n",
       "      <td>2021-01-04</td>\n",
       "      <td>50.0</td>\n",
       "      <td>normal</td>\n",
       "      <td>weekday</td>\n",
       "      <td>NaN</td>\n",
       "    </tr>\n",
       "    <tr>\n",
       "      <th>4</th>\n",
       "      <td>2021-01-05</td>\n",
       "      <td>37.0</td>\n",
       "      <td>normal</td>\n",
       "      <td>weekday</td>\n",
       "      <td>NaN</td>\n",
       "    </tr>\n",
       "  </tbody>\n",
       "</table>\n",
       "</div>"
      ],
      "text/plain": [
       "        date  fine_dust(㎍/㎥)   grade      day dateName\n",
       "0 2021-01-01            36.0  normal  weekday     1월1일\n",
       "1 2021-01-02            43.0  normal  weekend      NaN\n",
       "2 2021-01-03            47.0  normal  weekend      NaN\n",
       "3 2021-01-04            50.0  normal  weekday      NaN\n",
       "4 2021-01-05            37.0  normal  weekday      NaN"
      ]
     },
     "execution_count": 9,
     "metadata": {},
     "output_type": "execute_result"
    }
   ],
   "source": [
    "# fine_dust와 hd DF 합치기\n",
    "m_fine_dust = pd.merge(fine_dust, hd, how='outer', on='date')\n",
    "m_fine_dust.head()"
   ]
  },
  {
   "cell_type": "code",
   "execution_count": 10,
   "metadata": {},
   "outputs": [],
   "source": [
    "# apply 활용\n",
    "date_name2 = m_fine_dust.apply(lambda row : 'weekend' \n",
    "                               if str(row['dateName']) != 'nan' else row['day'], axis=1)"
   ]
  },
  {
   "cell_type": "code",
   "execution_count": 11,
   "metadata": {},
   "outputs": [
    {
     "data": {
      "text/plain": [
       "(        date  fine_dust(㎍/㎥)   grade merge_day\n",
       " 0 2021-01-01            36.0  normal   weekend,\n",
       "            date  fine_dust(㎍/㎥) grade merge_day\n",
       " 1328 2024-10-30            28.0  good   weekday)"
      ]
     },
     "execution_count": 11,
     "metadata": {},
     "output_type": "execute_result"
    }
   ],
   "source": [
    "# apply 활용해서 평일, 주말(+공휴일)로 나눈 값을\n",
    "# 합친 df에 적용하기 \n",
    "m_fine_dust['merge_day'] = date_name2\n",
    "\n",
    "# 필요한 컬럼/행으로 자르기\n",
    "m_fine_dust = m_fine_dust.loc[:, ['date', 'fine_dust(㎍/㎥)', 'grade', 'merge_day']]\n",
    "m_fine_dust = m_fine_dust.iloc[:1329, :]\n",
    "m_fine_dust.head(1), m_fine_dust.tail(1)"
   ]
  },
  {
   "cell_type": "markdown",
   "metadata": {},
   "source": [
    "병합된 DF을 계절별, 연도별로 구분하기"
   ]
  },
  {
   "cell_type": "code",
   "execution_count": 12,
   "metadata": {},
   "outputs": [
    {
     "name": "stdout",
     "output_type": "stream",
     "text": [
      "         date  fine_dust(㎍/㎥)   grade merge_day  season\n",
      "57 2021-02-28            32.0  normal   weekend  Winter\n",
      "58 2021-03-01             NaN     NaN   weekend  Spring\n",
      "          date  fine_dust(㎍/㎥)   grade merge_day  season\n",
      "145 2021-05-31            59.0  normal   weekday  Spring\n",
      "146 2021-06-01            52.0  normal   weekday  Summer\n",
      "          date  fine_dust(㎍/㎥)   grade merge_day  season\n",
      "237 2021-08-31            37.0  normal   weekday  Summer\n",
      "238 2021-09-01             9.0    good   weekday    Fall\n",
      "          date  fine_dust(㎍/㎥)   grade merge_day  season\n",
      "325 2021-11-30            31.0  normal   weekday    Fall\n",
      "326 2021-12-01            19.0    good   weekday  Winter\n"
     ]
    }
   ],
   "source": [
    "# date를 기준으로 계절별 구분 (봄: 3~5, 여름: 6~8, 가을: 9~11, 겨울: 12~2)\n",
    "conditions = [\n",
    "    ( m_fine_dust[\"date\"].dt.month >= 3 ) & ( m_fine_dust[\"date\"].dt.month <= 5 ),\n",
    "    ( m_fine_dust[\"date\"].dt.month >= 6 ) & ( m_fine_dust[\"date\"].dt.month <= 8 ),\n",
    "    ( m_fine_dust[\"date\"].dt.month >= 9 ) & ( m_fine_dust[\"date\"].dt.month <= 11 ),\n",
    "]\n",
    "season = [\"Spring\", \"Summer\", \"Fall\"]\n",
    "m_fine_dust[\"season\"] = np.select(conditions, season, default=\"Winter\")\n",
    "\n",
    "print( m_fine_dust.iloc[57:59, :] )\n",
    "print( m_fine_dust.iloc[145:147, :] )\n",
    "print( m_fine_dust.iloc[237:239, :] )\n",
    "print( m_fine_dust.iloc[325:327, :] )"
   ]
  },
  {
   "cell_type": "code",
   "execution_count": 13,
   "metadata": {},
   "outputs": [
    {
     "name": "stdout",
     "output_type": "stream",
     "text": [
      "          date  fine_dust(㎍/㎥)   grade merge_day  season  year\n",
      "356 2021-12-31            21.0    good   weekday  Winter  2021\n",
      "357 2022-01-01            34.0  normal   weekend  Winter  2022\n"
     ]
    }
   ],
   "source": [
    "# date를 기준으로 연도 구분\n",
    "m_fine_dust[\"year\"] = m_fine_dust[\"date\"].dt.year\n",
    "print( m_fine_dust.iloc[356:358, :] )"
   ]
  },
  {
   "cell_type": "markdown",
   "metadata": {},
   "source": [
    "결측치 수정 ( 미세먼지 농도 결측치를 포함되는 계절의 평균으로 대체 )"
   ]
  },
  {
   "cell_type": "code",
   "execution_count": 14,
   "metadata": {},
   "outputs": [
    {
     "name": "stdout",
     "output_type": "stream",
     "text": [
      "평일 수 :  902\n",
      "주말 및 공휴일 수 :  427\n"
     ]
    }
   ],
   "source": [
    "print( \"평일 수 : \", len(m_fine_dust.loc[m_fine_dust[\"merge_day\"] == \"weekday\"]) )\n",
    "print( \"주말 및 공휴일 수 : \", len(m_fine_dust.loc[m_fine_dust[\"merge_day\"] == \"weekend\"]) )"
   ]
  },
  {
   "cell_type": "code",
   "execution_count": 15,
   "metadata": {},
   "outputs": [
    {
     "data": {
      "text/html": [
       "<div>\n",
       "<style scoped>\n",
       "    .dataframe tbody tr th:only-of-type {\n",
       "        vertical-align: middle;\n",
       "    }\n",
       "\n",
       "    .dataframe tbody tr th {\n",
       "        vertical-align: top;\n",
       "    }\n",
       "\n",
       "    .dataframe thead th {\n",
       "        text-align: right;\n",
       "    }\n",
       "</style>\n",
       "<table border=\"1\" class=\"dataframe\">\n",
       "  <thead>\n",
       "    <tr style=\"text-align: right;\">\n",
       "      <th></th>\n",
       "      <th>date</th>\n",
       "      <th>fine_dust(㎍/㎥)</th>\n",
       "      <th>grade</th>\n",
       "      <th>merge_day</th>\n",
       "      <th>season</th>\n",
       "      <th>year</th>\n",
       "    </tr>\n",
       "  </thead>\n",
       "  <tbody>\n",
       "  </tbody>\n",
       "</table>\n",
       "</div>"
      ],
      "text/plain": [
       "Empty DataFrame\n",
       "Columns: [date, fine_dust(㎍/㎥), grade, merge_day, season, year]\n",
       "Index: []"
      ]
     },
     "execution_count": 15,
     "metadata": {},
     "output_type": "execute_result"
    }
   ],
   "source": [
    "# m_fine_dust[m_fine_dust['fine_dust(㎍/㎥)'].isnull()]\n",
    "# 결측치 행\n",
    "        # 58\t2021-03-01\tNaN\tNaN\tweekend\n",
    "        # 504\t2022-06-06\tNaN\tNaN\tweekend\n",
    "        # 620\t2022-10-10\tNaN\tNaN\tweekend\n",
    "        # 822\t2023-05-05\tNaN\tNaN\tweekend\n",
    "        # 1176\t2024-05-15\tNaN\tNaN\tweekend\n",
    "        # 1293\t2024-09-16\tNaN\tNaN\tweekend\n",
    "# 계절별 평균을 결측치에 넣기로 함\n",
    "\n",
    "# 계절별 평균 구하기\n",
    "season_means = m_fine_dust.groupby('season')['fine_dust(㎍/㎥)'].mean()\n",
    "                # Fall      28.840909\n",
    "                # Spring    57.397101\n",
    "                # Summer    28.062500\n",
    "                # Winter    46.641509\n",
    "\n",
    "# 결측치행에 평균값 넣기\n",
    "m_fine_dust[\"fine_dust(㎍/㎥)\"] = m_fine_dust[\"fine_dust(㎍/㎥)\"]. \\\n",
    "                        fillna(m_fine_dust.groupby(\"season\")[\"fine_dust(㎍/㎥)\"].transform(\"mean\"))\n",
    "\n",
    "m_fine_dust[m_fine_dust['fine_dust(㎍/㎥)'].isnull()]\n"
   ]
  },
  {
   "cell_type": "markdown",
   "metadata": {},
   "source": [
    "범주화 및 그룹화"
   ]
  },
  {
   "cell_type": "code",
   "execution_count": 16,
   "metadata": {},
   "outputs": [
    {
     "name": "stdout",
     "output_type": "stream",
     "text": [
      "<class 'pandas.core.frame.DataFrame'>\n",
      "RangeIndex: 1329 entries, 0 to 1328\n",
      "Data columns (total 6 columns):\n",
      " #   Column          Non-Null Count  Dtype         \n",
      "---  ------          --------------  -----         \n",
      " 0   date            1329 non-null   datetime64[ns]\n",
      " 1   fine_dust(㎍/㎥)  1329 non-null   float64       \n",
      " 2   grade           1323 non-null   category      \n",
      " 3   merge_day       1329 non-null   object        \n",
      " 4   season          1329 non-null   category      \n",
      " 5   year            1329 non-null   int32         \n",
      "dtypes: category(2), datetime64[ns](1), float64(1), int32(1), object(1)\n",
      "memory usage: 39.5+ KB\n"
     ]
    }
   ],
   "source": [
    "# 범주화\n",
    "# 순서있는 범주형 : ordered = True, 순서 없는 범주형 : ordered = False\n",
    "c_grade = ['good', 'normal', 'bad', 'very_bad']\n",
    "c_grade1 = CategoricalDtype(categories = c_grade, ordered = True)\n",
    "\n",
    "c_season = [\"Spring\", \"Summer\", \"Fall\", \"Winter\"]\n",
    "c_season1 = CategoricalDtype(categories = c_season, ordered = True)\n",
    "\n",
    "m_fine_dust[\"grade\"] = m_fine_dust[\"grade\"].astype(c_grade1)\n",
    "m_fine_dust[\"season\"] = m_fine_dust[\"season\"].astype(c_season1)\n",
    "m_fine_dust.info()"
   ]
  },
  {
   "cell_type": "markdown",
   "metadata": {},
   "source": [
    "### 데이터 분석"
   ]
  },
  {
   "cell_type": "markdown",
   "metadata": {},
   "source": [
    "1. 단일 그룹 분석"
   ]
  },
  {
   "cell_type": "code",
   "execution_count": 24,
   "metadata": {},
   "outputs": [
    {
     "name": "stdout",
     "output_type": "stream",
     "text": [
      "단일 그룹 분석\n",
      "\n",
      "\n",
      "Year Stats:\n",
      "         max   min       mean          var  count\n",
      "year                                            \n",
      "2021  389.0   9.0  48.090748  1654.192038    357\n",
      "2022  247.0   8.0  36.072394   457.202489    344\n",
      "2023  333.0  10.0  41.469532   933.951426    348\n",
      "2024  277.0  10.0  34.443707   587.494320    280\n",
      "\n",
      "\n",
      "Grade Stats:\n",
      "             max    min        mean          var  count\n",
      "grade                                                 \n",
      "good       30.0    8.0   22.112436    28.751842    587\n",
      "normal     79.0   31.0   45.910198   152.853204    657\n",
      "bad       148.0   81.0  106.938462   263.902404     65\n",
      "very_bad  389.0  152.0  235.785714  7523.104396     14\n",
      "\n",
      "\n",
      "Season Stats:\n",
      "           max   min       mean          var  count\n",
      "season                                            \n",
      "Spring  389.0  11.0  57.397101  2095.632845    348\n",
      "Summer   72.0   8.0  28.062500   121.035866    353\n",
      "Fall    140.0   9.0  28.840909   216.638202    310\n",
      "Winter  247.0  11.0  46.641509   715.416820    318\n",
      "\n",
      "\n",
      "Day Type Stats:\n",
      "              max   min       mean          var  count\n",
      "merge_day                                            \n",
      "weekday    389.0   8.0  40.743902  1002.022022    902\n",
      "weekend    384.0  10.0  39.582987   864.744781    427\n"
     ]
    }
   ],
   "source": [
    "def group_analysis_by_single_column(group_col_name, col_name):\n",
    "    # 그룹화\n",
    "    grouped_df = m_fine_dust.groupby(group_col_name, observed=True)\n",
    "\n",
    "    # 그룹별 최대/최소/평균/분산/빈도 계산\n",
    "    stats = grouped_df[col_name].agg([\"max\", \"min\", \"mean\", \"var\", \"count\"])\n",
    "    return stats\n",
    "\n",
    "\n",
    "# 단일 그룹 분석 결과를 데이터 프레임으로 저장\n",
    "df_year_stats = group_analysis_by_single_column(\"year\", \"fine_dust(㎍/㎥)\")\n",
    "df_grade_stats = group_analysis_by_single_column(\"grade\", \"fine_dust(㎍/㎥)\")\n",
    "df_season_stats = group_analysis_by_single_column(\"season\", \"fine_dust(㎍/㎥)\")\n",
    "df_day_stats = group_analysis_by_single_column(\"merge_day\", \"fine_dust(㎍/㎥)\")\n",
    "\n",
    "# 데이터 프레임을 하나로 합치기\n",
    "combined_stats = {\n",
    "    \"Year\": df_year_stats,\n",
    "    \"Grade\": df_grade_stats,\n",
    "    \"Season\": df_season_stats,\n",
    "    \"Day Type\": df_day_stats\n",
    "}\n",
    "\n",
    "print( \"단일 그룹 분석\")\n",
    "# 결과 확인\n",
    "for key, value in combined_stats.items():\n",
    "    print(f\"\\n\\n{key} Stats:\\n\", value)\n"
   ]
  },
  {
   "cell_type": "markdown",
   "metadata": {},
   "source": [
    "- 시각화"
   ]
  },
  {
   "cell_type": "code",
   "execution_count": 54,
   "metadata": {},
   "outputs": [
    {
     "data": {
      "image/png": "[encoded data removed]",
      "text/plain": [
       "<Figure size 1500x1200 with 8 Axes>"
      ]
     },
     "metadata": {},
     "output_type": "display_data"
    }
   ],
   "source": [
    "import matplotlib.pyplot as plt\n",
    "import numpy as np\n",
    "\n",
    "def plot_stats_with_count(stats_df, ax, title):\n",
    "    \"\"\"\n",
    "    Parameters:\n",
    "        stats_df: 통계치를 포함한 데이터 프레임\n",
    "        ax: 서브플롯의 축\n",
    "        title: 그래프 제목\n",
    "    \"\"\"\n",
    "    # 막대 그래프 생성\n",
    "    bars = stats_df[['max', 'min', 'mean']].plot(kind='bar', ax=ax, \n",
    "                                                color=['skyblue', 'salmon', 'lightgreen'],\n",
    "                                                width=0.8)\n",
    "    \n",
    "    # 2024년 막대에 패턴 추가\n",
    "    if 'year' in str(stats_df.index.name).lower():  # year 관련 그래프인 경우에만\n",
    "        for container in bars.containers:  # max, min, mean 각각의 막대에 대해\n",
    "            # 2024년에 해당하는 막대에 패턴 추가\n",
    "            for idx, patch in enumerate(container):\n",
    "                if str(stats_df.index[idx]) == '2024':\n",
    "                    patch.set_hatch('///')\n",
    "                    patch.set_alpha(0.8)\n",
    "    \n",
    "    # 두 번째 y축 생성\n",
    "    ax2 = ax.twinx()\n",
    "    \n",
    "    # count를 선 그래프로 표시\n",
    "    count_line = ax2.plot(range(len(stats_df)), stats_df['count'], \n",
    "                         color='sandybrown', marker='o', linewidth=2, \n",
    "                         label='count')\n",
    "    \n",
    "    # 첫 번째 축 설정\n",
    "    ax.set_title(title)\n",
    "    ax.set_xlabel(stats_df.index.name)\n",
    "    ax.set_ylabel('Values')\n",
    "    ax.tick_params(axis='x', rotation=45)\n",
    "    ax.grid(True, alpha=0.3)\n",
    "    \n",
    "    # 두 번째 축 설정\n",
    "    ax2.set_ylabel('Count')\n",
    "    ax2.tick_params(axis='y', labelcolor='sandybrown')\n",
    "    \n",
    "    # 범례 통합\n",
    "    lines1, labels1 = ax.get_legend_handles_labels()\n",
    "    lines2, labels2 = ax2.get_legend_handles_labels()\n",
    "    ax2.legend(lines1 + count_line, labels1 + ['count'], \n",
    "              loc='upper right')\n",
    "    \n",
    "    # 2024년 데이터가 부분적임을 설명하는 주석 추가\n",
    "    if 'year' in str(stats_df.index.name).lower():\n",
    "        ax.annotate('* 2024 data: Jan-Oct 30th', \n",
    "                   xy=(0.02, 0.98), \n",
    "                   xycoords='axes fraction',\n",
    "                   bbox=dict(facecolor='white', edgecolor='gray', alpha=0.8),\n",
    "                   fontsize=8,\n",
    "                   va='top')\n",
    "\n",
    "# 서브플롯 생성\n",
    "fig, axs = plt.subplots(2, 2, figsize=(15, 12))\n",
    "\n",
    "# 각 서브플롯에 그래프 그리기\n",
    "plot_stats_with_count(df_year_stats, axs[0, 0], \n",
    "                     'Yearly Fine Dust Statistics')\n",
    "plot_stats_with_count(df_grade_stats, axs[0, 1], \n",
    "                     'Grade-wise Fine Dust Statistics')\n",
    "plot_stats_with_count(df_season_stats, axs[1, 0], \n",
    "                     'Seasonal Fine Dust Statistics')\n",
    "plot_stats_with_count(df_day_stats, axs[1, 1], \n",
    "                     'Weekday/Weekend Fine Dust Statistics')\n",
    "\n",
    "# 레이아웃 조정\n",
    "plt.tight_layout()\n",
    "plt.show()"
   ]
  },
  {
   "cell_type": "code",
   "execution_count": 52,
   "metadata": {},
   "outputs": [
    {
     "data": {
      "text/plain": [
       "<Figure size 640x480 with 0 Axes>"
      ]
     },
     "metadata": {},
     "output_type": "display_data"
    }
   ],
   "source": [
    "# 그래프를 파일로 저장\n",
    "plt.savefig('./data/Single_Group_Analysis_Plots.png', \n",
    "            dpi=300,  # 해상도 설정\n",
    "            bbox_inches='tight',  # 여백 자동 조정\n",
    "            pad_inches=0.1)  # 여백 크기"
   ]
  },
  {
   "cell_type": "markdown",
   "metadata": {},
   "source": [
    "2. 두 개 변수 조합 분석"
   ]
  },
  {
   "cell_type": "code",
   "execution_count": 37,
   "metadata": {},
   "outputs": [],
   "source": [
    "# 2-1. 연도와 등급을 조합해서 분석\n",
    "# 2-2. 연도와 계절을 조합해서 분석\n",
    "# 2-3. 연도와 평일/주말을 조합해서 분석\n",
    "# 2-4. 등급과 계절을 조합해서 분석\n",
    "# 2-5. 등급과 평일/주말을 조합해서 분석\n",
    "# 2-6. 계절과 평일/주말을 조합해서 분석"
   ]
  },
  {
   "cell_type": "code",
   "execution_count": null,
   "metadata": {},
   "outputs": [],
   "source": []
  },
  {
   "cell_type": "markdown",
   "metadata": {},
   "source": [
    "3. 세 개 변수 조합 분석"
   ]
  },
  {
   "cell_type": "code",
   "execution_count": null,
   "metadata": {},
   "outputs": [],
   "source": [
    "# 3-1. 연도와 등급과 계절을 조합해서 분석"
   ]
  },
  {
   "cell_type": "code",
   "execution_count": null,
   "metadata": {},
   "outputs": [],
   "source": [
    "# 3-2. 연도와 등급과 평일/주말을 조합해서 분석"
   ]
  },
  {
   "cell_type": "code",
   "execution_count": null,
   "metadata": {},
   "outputs": [],
   "source": [
    "# 3-3. 등급과 계절과 평일/주말을 주합해서 분석"
   ]
  },
  {
   "cell_type": "markdown",
   "metadata": {},
   "source": [
    "4. 모두 조합 분석"
   ]
  },
  {
   "cell_type": "code",
   "execution_count": null,
   "metadata": {},
   "outputs": [],
   "source": [
    "# 4-1. 연도와 등급과 계절과 평일/주말을 조합해서 분석"
   ]
  },
  {
   "cell_type": "code",
   "execution_count": null,
   "metadata": {},
   "outputs": [],
   "source": [
    "# 그래프 그리기\n",
    "count_data.plot(kind='bar', stacked=False, color=['skyblue', 'salmon'])\n",
    "plt.title(\"Fine Dust Level by Weekday and Grade\")\n",
    "plt.xlabel(\"Grade\")\n",
    "plt.ylabel(\"Count\")\n",
    "plt.xticks(rotation=45)\n",
    "plt.legend()\n",
    "plt.show()"
   ]
  },
  {
   "cell_type": "code",
   "execution_count": null,
   "metadata": {},
   "outputs": [],
   "source": [
    "# 그래프 그리기\n",
    "fig, axes = plt.subplots(len(grouped_data.index.levels[0]), 1, figsize=(10, 10), sharex=True)\n",
    "fig.suptitle(\"Fine Dust Level by Year, Season, Weekday/Weekend, and Grade\")\n",
    "\n",
    "# 색상 정의 (순서대로 good, normal, bad, very_bad에 대응)\n",
    "colors = ['lightgreen', 'skyblue', 'salmon', 'orange']\n",
    "\n",
    "# 각 연도별로 서브플롯에 그래프 생성\n",
    "for i, (year, data) in enumerate(grouped_data.groupby(level=0)):\n",
    "    data = data.droplevel(0)  # 연도 레벨 제거\n",
    "    \n",
    "    # season_order에 따라 계절 순서 정렬\n",
    "    data = data.loc[season_order.categories]\n",
    "    \n",
    "    # 정의된 순서대로 그래프 그리기\n",
    "    ax = data.plot(kind='bar', stacked=False, ax=axes[i], color=colors)\n",
    "    axes[i].set_title(f\"{year}년\")\n",
    "    axes[i].set_ylabel(\"Count\")\n",
    "    \n",
    "    # x축 레이블 회전 제거\n",
    "    axes[i].tick_params(axis='x', rotation=0)\n",
    "    \n",
    "    # 범례 순서 명시적 지정\n",
    "    handles, labels = axes[i].get_legend_handles_labels()\n",
    "    axes[i].legend(handles, labels, bbox_to_anchor=(1, 0.8))\n",
    "\n",
    "plt.xlabel(\"Season and Grade\")\n",
    "plt.tight_layout(rect=[0, 0.03, 1, 0.95])\n",
    "plt.show()"
   ]
  },
  {
   "cell_type": "code",
   "execution_count": null,
   "metadata": {},
   "outputs": [],
   "source": []
  }
 ],
 "metadata": {
  "kernelspec": {
   "display_name": "human-da-env",
   "language": "python",
   "name": "python3"
  },
  "language_info": {
   "codemirror_mode": {
    "name": "ipython",
    "version": 3
   },
   "file_extension": ".py",
   "mimetype": "text/x-python",
   "name": "python",
   "nbconvert_exporter": "python",
   "pygments_lexer": "ipython3",
   "version": "3.12.7"
  }
 },
 "nbformat": 4,
 "nbformat_minor": 2
}
