{
 "cells": [
  {
   "cell_type": "code",
   "execution_count": 1,
   "metadata": {},
   "outputs": [],
   "source": [
    "import pandas as pd\n",
    "import numpy as np\n",
    "import matplotlib.pyplot as plt\n",
    "import seaborn as sns\n",
    "from sqlalchemy import create_engine\n",
    "import pymysql"
   ]
  },
  {
   "cell_type": "markdown",
   "metadata": {},
   "source": [
    "csv를 DataFrame으로 변환"
   ]
  },
  {
   "cell_type": "code",
   "execution_count": 2,
   "metadata": {},
   "outputs": [],
   "source": [
    "fd_df = pd.read_csv('./data/fd210101_241030.csv')"
   ]
  },
  {
   "cell_type": "code",
   "execution_count": 3,
   "metadata": {},
   "outputs": [
    {
     "name": "stdout",
     "output_type": "stream",
     "text": [
      "<class 'pandas.core.frame.DataFrame'>\n",
      "RangeIndex: 1323 entries, 0 to 1322\n",
      "Data columns (total 5 columns):\n",
      " #   Column          Non-Null Count  Dtype \n",
      "---  ------          --------------  ----- \n",
      " 0   Unnamed: 0      1323 non-null   int64 \n",
      " 1   지점              1323 non-null   int64 \n",
      " 2   지점명             1323 non-null   object\n",
      " 3   일시              1323 non-null   object\n",
      " 4   일 미세먼지 농도(㎍/㎥)  1323 non-null   int64 \n",
      "dtypes: int64(3), object(2)\n",
      "memory usage: 51.8+ KB\n",
      "None\n",
      "   Unnamed: 0   지점 지점명          일시  일 미세먼지 농도(㎍/㎥)\n",
      "0           0  108  서울  2021-01-01              36\n",
      "1           1  108  서울  2021-01-02              43\n",
      "2           2  108  서울  2021-01-03              47\n"
     ]
    }
   ],
   "source": [
    "print( fd_df.info() )\n",
    "print( fd_df.head(3) )"
   ]
  },
  {
   "cell_type": "code",
   "execution_count": 4,
   "metadata": {},
   "outputs": [
    {
     "name": "stdout",
     "output_type": "stream",
     "text": [
      "<class 'pandas.core.frame.DataFrame'>\n",
      "RangeIndex: 1323 entries, 0 to 1322\n",
      "Data columns (total 5 columns):\n",
      " #   Column          Non-Null Count  Dtype \n",
      "---  ------          --------------  ----- \n",
      " 0   Unnamed: 0      1323 non-null   int64 \n",
      " 1   지점              1323 non-null   int64 \n",
      " 2   지점명             1323 non-null   object\n",
      " 3   일시              1323 non-null   object\n",
      " 4   일 미세먼지 농도(㎍/㎥)  1323 non-null   int64 \n",
      "dtypes: int64(3), object(2)\n",
      "memory usage: 51.8+ KB\n"
     ]
    },
    {
     "data": {
      "text/plain": [
       "(      Unnamed: 0   지점 지점명          일시  일 미세먼지 농도(㎍/㎥)\n",
       " 0              0  108  서울  2021-01-01              36\n",
       " 1              1  108  서울  2021-01-02              43\n",
       " 2              2  108  서울  2021-01-03              47\n",
       " 3              3  108  서울  2021-01-04              50\n",
       " 4              4  108  서울  2021-01-05              37\n",
       " ...          ...  ...  ..         ...             ...\n",
       " 1318        1318  108  서울  2024-10-25              29\n",
       " 1319        1319  108  서울  2024-10-26              26\n",
       " 1320        1320  108  서울  2024-10-27              27\n",
       " 1321        1321  108  서울  2024-10-28              38\n",
       " 1322        1322  108  서울  2024-10-30              28\n",
       " \n",
       " [1323 rows x 5 columns],\n",
       " None)"
      ]
     },
     "execution_count": 4,
     "metadata": {},
     "output_type": "execute_result"
    }
   ],
   "source": [
    "fd_df, fd_df.info()"
   ]
  },
  {
   "cell_type": "code",
   "execution_count": null,
   "metadata": {},
   "outputs": [],
   "source": [
    "# 미세먼저 \n",
    "# 0~30 좋음\n",
    "# 31~80 보통\n",
    "# 81~150 나쁨\n",
    "# 151이상 매우나쁨"
   ]
  },
  {
   "cell_type": "markdown",
   "metadata": {},
   "source": [
    "# DB 저장"
   ]
  },
  {
   "cell_type": "code",
   "execution_count": 5,
   "metadata": {},
   "outputs": [],
   "source": [
    "conn = pymysql.connect(host=\"localhost\", port=3306, db=\"mp\",\n",
    "                       user=\"root\", passwd=\"1234\")\n",
    "\n",
    "# 2. 명령 도구 준비\n",
    "cursor = conn.cursor()"
   ]
  },
  {
   "cell_type": "code",
   "execution_count": 6,
   "metadata": {},
   "outputs": [
    {
     "data": {
      "text/plain": [
       "0"
      ]
     },
     "execution_count": 6,
     "metadata": {},
     "output_type": "execute_result"
    }
   ],
   "source": [
    "# sql = \"drop table fine_dust\"\n",
    "# cursor.execute(sql)\n",
    "create_table_query = \"\"\"\n",
    "CREATE TABLE IF NOT EXISTS fine_dust (\n",
    "    station_id INT,\n",
    "    station_name VARCHAR(50),\n",
    "    date VARCHAR(30),\n",
    "    `fine_dust(㎍/㎥)` INT\n",
    ")\n",
    "\"\"\"\n",
    "cursor.execute(create_table_query)"
   ]
  },
  {
   "cell_type": "code",
   "execution_count": 7,
   "metadata": {},
   "outputs": [],
   "source": [
    "# DataFrame의 각 행을 MySQL에 삽입\n",
    "for _, row in fd_df.iterrows():\n",
    "    insert_query = \"\"\"\n",
    "    INSERT INTO fine_dust (station_id, station_name, date,`fine_dust(㎍/㎥)`)\n",
    "    VALUES (%s, %s, %s, %s)\n",
    "    \"\"\"\n",
    "\n",
    "    # np.nan을 None으로 변환하는 함수\n",
    "    def convert_nan(value):\n",
    "        return None if isinstance(value, float) and np.isnan(value) else value\n",
    "    \n",
    "\n",
    "    values = (\n",
    "        convert_nan(row['지점']),\n",
    "        convert_nan(row['지점명']),\n",
    "        convert_nan(row['일시']),\n",
    "        convert_nan(row['일 미세먼지 농도(㎍/㎥)'])\n",
    "    )\n",
    "    cursor.execute(insert_query, values)\n"
   ]
  },
  {
   "cell_type": "code",
   "execution_count": 8,
   "metadata": {},
   "outputs": [],
   "source": [
    "conn.commit()\n"
   ]
  },
  {
   "cell_type": "code",
   "execution_count": 9,
   "metadata": {},
   "outputs": [],
   "source": [
    "conn.close()\n",
    "cursor.close()"
   ]
  },
  {
   "cell_type": "code",
   "execution_count": 16,
   "metadata": {},
   "outputs": [],
   "source": [
    "# db 저장 완료"
   ]
  }
 ],
 "metadata": {
  "kernelspec": {
   "display_name": "human-da-env",
   "language": "python",
   "name": "python3"
  },
  "language_info": {
   "codemirror_mode": {
    "name": "ipython",
    "version": 3
   },
   "file_extension": ".py",
   "mimetype": "text/x-python",
   "name": "python",
   "nbconvert_exporter": "python",
   "pygments_lexer": "ipython3",
   "version": "3.12.7"
  }
 },
 "nbformat": 4,
 "nbformat_minor": 2
}
