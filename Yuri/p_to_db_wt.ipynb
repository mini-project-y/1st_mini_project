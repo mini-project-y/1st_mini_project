{
 "cells": [
  {
   "cell_type": "code",
   "execution_count": 1,
   "metadata": {},
   "outputs": [],
   "source": [
    "import pandas as pd\n",
    "import numpy as np\n",
    "import matplotlib.pyplot as plt\n",
    "import seaborn as sns\n",
    "from sqlalchemy import create_engine\n",
    "import pymysql"
   ]
  },
  {
   "cell_type": "markdown",
   "metadata": {},
   "source": [
    "csv를 DataFrame으로 변환"
   ]
  },
  {
   "cell_type": "code",
   "execution_count": 2,
   "metadata": {},
   "outputs": [],
   "source": [
    "wt_df = pd.read_csv('./data/wt210101_241030.csv', encoding='cp949')"
   ]
  },
  {
   "cell_type": "code",
   "execution_count": 3,
   "metadata": {},
   "outputs": [
    {
     "name": "stdout",
     "output_type": "stream",
     "text": [
      "<class 'pandas.core.frame.DataFrame'>\n",
      "RangeIndex: 1399 entries, 0 to 1398\n",
      "Data columns (total 9 columns):\n",
      " #   Column      Non-Null Count  Dtype  \n",
      "---  ------      --------------  -----  \n",
      " 0   지점          1399 non-null   int64  \n",
      " 1   지점명         1399 non-null   object \n",
      " 2   일시          1399 non-null   object \n",
      " 3   평균기온(°C)    1399 non-null   float64\n",
      " 4   최저기온(°C)    1398 non-null   float64\n",
      " 5   최고기온(°C)    1399 non-null   float64\n",
      " 6   일강수량(mm)    591 non-null    float64\n",
      " 7   평균 풍속(m/s)  1394 non-null   float64\n",
      " 8   일 최심적설(cm)  92 non-null     float64\n",
      "dtypes: float64(6), int64(1), object(2)\n",
      "memory usage: 98.5+ KB\n",
      "None\n",
      "    지점 지점명          일시  평균기온(°C)  최저기온(°C)  최고기온(°C)  일강수량(mm)  평균 풍속(m/s)  \\\n",
      "0  108  서울  2021-01-01      -4.2      -9.8       1.6       NaN         2.0   \n",
      "1  108  서울  2021-01-02      -5.0      -8.4      -1.4       NaN         2.6   \n",
      "2  108  서울  2021-01-03      -5.6      -9.1      -2.0       NaN         2.0   \n",
      "\n",
      "   일 최심적설(cm)  \n",
      "0         NaN  \n",
      "1         NaN  \n",
      "2         NaN  \n"
     ]
    },
    {
     "data": {
      "text/plain": [
       "Index(['지점', '지점명', '일시', '평균기온(°C)', '최저기온(°C)', '최고기온(°C)', '일강수량(mm)',\n",
       "       '평균 풍속(m/s)', '일 최심적설(cm)'],\n",
       "      dtype='object')"
      ]
     },
     "execution_count": 3,
     "metadata": {},
     "output_type": "execute_result"
    }
   ],
   "source": [
    "print( wt_df.info() )\n",
    "print( wt_df.head(3) )\n",
    "wt_df.columns"
   ]
  },
  {
   "cell_type": "markdown",
   "metadata": {},
   "source": [
    "# db저장"
   ]
  },
  {
   "cell_type": "code",
   "execution_count": 4,
   "metadata": {},
   "outputs": [],
   "source": [
    "conn = pymysql.connect(host=\"localhost\", port=3306, db=\"mp\",\n",
    "                       user=\"root\", passwd=\"1234\")\n",
    "\n",
    "# 2. 명령 도구 준비\n",
    "cursor = conn.cursor()"
   ]
  },
  {
   "cell_type": "code",
   "execution_count": 5,
   "metadata": {},
   "outputs": [
    {
     "data": {
      "text/plain": [
       "0"
      ]
     },
     "execution_count": 5,
     "metadata": {},
     "output_type": "execute_result"
    }
   ],
   "source": [
    "# 테이블 생성 쿼리\n",
    "create_table_query = \"\"\"\n",
    "CREATE TABLE IF NOT EXISTS weather_data (\n",
    "    station_id INT,\n",
    "    station_name VARCHAR(50),\n",
    "    date_time varchar(30),\n",
    "    avg_temp FLOAT,\n",
    "    min_temp FLOAT,\n",
    "    max_temp FLOAT,\n",
    "    daily_precipitation FLOAT,\n",
    "    avg_wind_speed FLOAT,\n",
    "    daily_snow_depth FLOAT\n",
    ")\n",
    "\"\"\"\n",
    "cursor.execute(create_table_query)"
   ]
  },
  {
   "cell_type": "code",
   "execution_count": 6,
   "metadata": {},
   "outputs": [],
   "source": [
    "# DataFrame의 각 행을 MySQL에 삽입\n",
    "for _, row in wt_df.iterrows():\n",
    "    insert_query = \"\"\"\n",
    "    INSERT INTO weather_data (\n",
    "        station_id, station_name, date_time,\n",
    "        avg_temp, min_temp, max_temp,\n",
    "        daily_precipitation, avg_wind_speed, daily_snow_depth\n",
    "    )\n",
    "    VALUES (%s, %s, %s, %s, %s, %s, %s, %s, %s)\n",
    "    \"\"\"\n",
    "    \n",
    "    # np.nan을 None으로 변환하는 함수\n",
    "    def convert_nan(value):\n",
    "        return None if isinstance(value, float) and np.isnan(value) else value\n",
    "    \n",
    "    values = (\n",
    "        convert_nan(row['지점']),\n",
    "        convert_nan(row['지점명']),\n",
    "        convert_nan(row['일시']),\n",
    "        convert_nan(row['평균기온(°C)']),\n",
    "        convert_nan(row['최저기온(°C)']),\n",
    "        convert_nan(row['최고기온(°C)']),\n",
    "        convert_nan(row['일강수량(mm)']),\n",
    "        convert_nan(row['평균 풍속(m/s)']),\n",
    "        convert_nan(row['일 최심적설(cm)'])\n",
    "    )\n",
    "    cursor.execute(insert_query, values)"
   ]
  },
  {
   "cell_type": "code",
   "execution_count": null,
   "metadata": {},
   "outputs": [],
   "source": [
    "# 변경사항 저장\n",
    "conn.commit()"
   ]
  },
  {
   "cell_type": "code",
   "execution_count": 8,
   "metadata": {},
   "outputs": [],
   "source": [
    "conn.close()\n",
    "cursor.close()"
   ]
  },
  {
   "cell_type": "code",
   "execution_count": null,
   "metadata": {},
   "outputs": [],
   "source": [
    "# db 저장 완료"
   ]
  }
 ],
 "metadata": {
  "kernelspec": {
   "display_name": "human-da-env",
   "language": "python",
   "name": "python3"
  },
  "language_info": {
   "codemirror_mode": {
    "name": "ipython",
    "version": 3
   },
   "file_extension": ".py",
   "mimetype": "text/x-python",
   "name": "python",
   "nbconvert_exporter": "python",
   "pygments_lexer": "ipython3",
   "version": "3.12.7"
  }
 },
 "nbformat": 4,
 "nbformat_minor": 2
}
