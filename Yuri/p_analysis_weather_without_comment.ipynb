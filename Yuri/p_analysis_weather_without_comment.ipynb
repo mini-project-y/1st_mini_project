{
 "cells": [
  {
   "cell_type": "code",
   "execution_count": 39,
   "metadata": {},
   "outputs": [],
   "source": [
    "import pandas as pd\n",
    "from pandas.api.types import CategoricalDtype\n",
    "import numpy as np\n",
    "import matplotlib.pyplot as plt\n",
    "import seaborn as sns\n",
    "import pymysql\n",
    "# from sqlalchemy import create_engine\n",
    "# !pip install scikit-learn\n",
    "from sklearn.preprocessing import MinMaxScaler\n",
    "from scipy.stats import skew, kurtosis\n",
    "import os"
   ]
  },
  {
   "cell_type": "code",
   "execution_count": 40,
   "metadata": {},
   "outputs": [],
   "source": [
    "# matplotlib 한글 사용\n",
    "\n",
    "plt.rcParams[\"font.family\"] =\"Malgun Gothic\"\n",
    "plt.rcParams[\"axes.unicode_minus\"] =False"
   ]
  },
  {
   "cell_type": "markdown",
   "metadata": {},
   "source": [
    "# 1. 데이터 불러와서 가공하기"
   ]
  },
  {
   "cell_type": "code",
   "execution_count": 41,
   "metadata": {},
   "outputs": [
    {
     "data": {
      "text/plain": [
       "(Index(['Unnamed: 0', 'station_id', 'station_name', 'date', 'fine_dust(㎍/㎥)'], dtype='object'),\n",
       " Index(['Unnamed: 0', 'station_id', 'station_name', 'date_time', 'avg_temp',\n",
       "        'min_temp', 'max_temp', 'daily_precipitation', 'avg_wind_speed',\n",
       "        'daily_snow_depth'],\n",
       "       dtype='object'),\n",
       " Index(['일시', 'dateName'], dtype='object'))"
      ]
     },
     "execution_count": 41,
     "metadata": {},
     "output_type": "execute_result"
    }
   ],
   "source": [
    "# 미세먼지 데이터와 날씨 데이터 불러와서 각각 데이터프레임에 저장\n",
    "fine_dust_df = pd.read_csv(\"./data/fine_dust.csv\")\n",
    "weather_df = pd.read_csv(\"./data/weather_data.csv\")\n",
    "holiday_df = pd.read_csv(\"./data/hd_21_24.csv\", encoding = \"CP949\")\n",
    "\n",
    "# 미세먼지 데이터프레임과 날씨 데이터프레임의 컬럼 조회\n",
    "fine_dust_df.columns, weather_df.columns, holiday_df.columns"
   ]
  },
  {
   "cell_type": "markdown",
   "metadata": {},
   "source": [
    "### 1-1. 분석에 용이하게 데이터프레임 가공하기"
   ]
  },
  {
   "cell_type": "markdown",
   "metadata": {},
   "source": [
    "날씨 데이터"
   ]
  },
  {
   "cell_type": "code",
   "execution_count": 42,
   "metadata": {},
   "outputs": [],
   "source": [
    "# 필요 컬럼을 원하는 순서로 정렬\n",
    "\n",
    "fine_dust_df = fine_dust_df[[\"date\", \"fine_dust(㎍/㎥)\"]]\n",
    "weather_df = weather_df[[\"date_time\", \"avg_temp\", \"min_temp\", \"max_temp\", \n",
    "                         \"daily_precipitation\", \"daily_snow_depth\", \"avg_wind_speed\"]]"
   ]
  },
  {
   "cell_type": "code",
   "execution_count": 43,
   "metadata": {},
   "outputs": [
    {
     "name": "stdout",
     "output_type": "stream",
     "text": [
      "<class 'pandas.core.frame.DataFrame'>\n",
      "RangeIndex: 1323 entries, 0 to 1322\n",
      "Data columns (total 2 columns):\n",
      " #   Column          Non-Null Count  Dtype \n",
      "---  ------          --------------  ----- \n",
      " 0   date            1323 non-null   object\n",
      " 1   fine_dust(㎍/㎥)  1323 non-null   int64 \n",
      "dtypes: int64(1), object(1)\n",
      "memory usage: 20.8+ KB\n",
      "<class 'pandas.core.frame.DataFrame'>\n",
      "RangeIndex: 1399 entries, 0 to 1398\n",
      "Data columns (total 7 columns):\n",
      " #   Column               Non-Null Count  Dtype  \n",
      "---  ------               --------------  -----  \n",
      " 0   date_time            1399 non-null   object \n",
      " 1   avg_temp             1399 non-null   float64\n",
      " 2   min_temp             1398 non-null   float64\n",
      " 3   max_temp             1399 non-null   float64\n",
      " 4   daily_precipitation  591 non-null    float64\n",
      " 5   daily_snow_depth     92 non-null     float64\n",
      " 6   avg_wind_speed       1394 non-null   float64\n",
      "dtypes: float64(6), object(1)\n",
      "memory usage: 76.6+ KB\n",
      "<class 'pandas.core.frame.DataFrame'>\n",
      "RangeIndex: 66 entries, 0 to 65\n",
      "Data columns (total 2 columns):\n",
      " #   Column    Non-Null Count  Dtype \n",
      "---  ------    --------------  ----- \n",
      " 0   일시        66 non-null     object\n",
      " 1   dateName  66 non-null     object\n",
      "dtypes: object(2)\n",
      "memory usage: 1.2+ KB\n"
     ]
    },
    {
     "data": {
      "text/plain": [
       "(None, None, None)"
      ]
     },
     "execution_count": 43,
     "metadata": {},
     "output_type": "execute_result"
    }
   ],
   "source": [
    "# 각 데이터 프레임 정보 확인\n",
    "fine_dust_df.info(), weather_df.info(), holiday_df.info()"
   ]
  },
  {
   "cell_type": "code",
   "execution_count": 50,
   "metadata": {},
   "outputs": [
    {
     "name": "stdout",
     "output_type": "stream",
     "text": [
      "<class 'pandas.core.frame.DataFrame'>\n",
      "RangeIndex: 1400 entries, 0 to 1399\n",
      "Data columns (total 9 columns):\n",
      " #   Column             Non-Null Count  Dtype  \n",
      "---  ------             --------------  -----  \n",
      " 0   date               1400 non-null   object \n",
      " 1   fine_dust(㎍/㎥)     1323 non-null   float64\n",
      " 2   avg_temp           1399 non-null   float64\n",
      " 3   min_temp           1398 non-null   float64\n",
      " 4   max_temp           1399 non-null   float64\n",
      " 5   precipitation(mm)  591 non-null    float64\n",
      " 6   snow_depth(cm)     92 non-null     float64\n",
      " 7   avg_wind_speed     1394 non-null   float64\n",
      " 8   datename           66 non-null     object \n",
      "dtypes: float64(7), object(2)\n",
      "memory usage: 98.6+ KB\n"
     ]
    }
   ],
   "source": [
    "# 데이터프레임을 하나의 데이터 프레임으로 합치기\n",
    "\n",
    "# 각 데이터프레임에서 날짜를 기준으로 합치기위해 컬럼명 수정하기\n",
    "    # 날씨 데이터프레임에서는 일부 컬럼만 이름 수정\n",
    "weather_df = weather_df.rename(columns={\"date_time\":\"date\", \n",
    "                                        \"daily_precipitation\":\"precipitation(mm)\", \n",
    "                                        \"daily_snow_depth\":\"snow_depth(cm)\"})\n",
    "    # 공휴일 데이터프레임에서는 전체 컬럼 이름 수정\n",
    "holiday_df.columns=[\"date\", \"datename\"]\n",
    "\n",
    "# 미세먼지와 날씨 데이터프레임 합치기\n",
    "fd_and_wt = pd.merge(left=fine_dust_df, right=weather_df, how=\"outer\", on=\"date\")\n",
    "# # 판다스의 merge를 활용하여 date컬럼을 기준으로 왼쪽에는 미세먼지 데이터프레임, 오른쪽에는 날씨 데이터프레임을 합침\n",
    "# # 이 과정에서 how를 \"outer\"로 지정하여 결측치를 없애지 않고 NaN으로 받아 합침\n",
    "\n",
    "# 위와 같은 방식으로 합쳐진 날씨 데이터프레임과 공휴일 데이터프레임 합치기\n",
    "all_df = pd.merge(left=fd_and_wt, right=holiday_df, how=\"outer\", on=\"date\")\n",
    "\n",
    "# 미세먼지, 날씨, 공휴일 모두 합친 데이터프레임의 정보 확인\n",
    "all_df.info()"
   ]
  },
  {
   "cell_type": "markdown",
   "metadata": {},
   "source": [
    "### 1-2. 날짜를 기준으로 년, 계절, 평일/주말(+공휴일) 구분하기"
   ]
  },
  {
   "cell_type": "markdown",
   "metadata": {},
   "source": [
    "1-2-1. 평일/주말(+공휴일) 구분하기"
   ]
  },
  {
   "cell_type": "code",
   "execution_count": 60,
   "metadata": {},
   "outputs": [
    {
     "name": "stdout",
     "output_type": "stream",
     "text": [
      "<class 'pandas.core.frame.DataFrame'>\n",
      "RangeIndex: 1400 entries, 0 to 1399\n",
      "Data columns (total 10 columns):\n",
      " #   Column             Non-Null Count  Dtype         \n",
      "---  ------             --------------  -----         \n",
      " 0   date               1400 non-null   datetime64[ns]\n",
      " 1   fine_dust(㎍/㎥)     1323 non-null   float64       \n",
      " 2   avg_temp           1399 non-null   float64       \n",
      " 3   min_temp           1398 non-null   float64       \n",
      " 4   max_temp           1399 non-null   float64       \n",
      " 5   precipitation(mm)  591 non-null    float64       \n",
      " 6   snow_depth(cm)     92 non-null     float64       \n",
      " 7   avg_wind_speed     1394 non-null   float64       \n",
      " 8   datename           66 non-null     object        \n",
      " 9   day                1400 non-null   object        \n",
      "dtypes: datetime64[ns](1), float64(7), object(2)\n",
      "memory usage: 109.5+ KB\n"
     ]
    }
   ],
   "source": [
    "# 날짜를 기준으로 년, 계절, 평일/주말(+공휴일)을 지정하기 위해 데이터프레임의 date 컬럼의 타입을 object에서 datetime으로 바꾸기\n",
    "all_df[\"date\"] = pd.to_datetime(all_df[\"date\"])\n",
    "\n",
    "# date컬럼의 자료형이 변환되었는지 확인하기\n",
    "all_df.info()"
   ]
  },
  {
   "cell_type": "code",
   "execution_count": 61,
   "metadata": {},
   "outputs": [
    {
     "data": {
      "text/html": [
       "<div>\n",
       "<style scoped>\n",
       "    .dataframe tbody tr th:only-of-type {\n",
       "        vertical-align: middle;\n",
       "    }\n",
       "\n",
       "    .dataframe tbody tr th {\n",
       "        vertical-align: top;\n",
       "    }\n",
       "\n",
       "    .dataframe thead th {\n",
       "        text-align: right;\n",
       "    }\n",
       "</style>\n",
       "<table border=\"1\" class=\"dataframe\">\n",
       "  <thead>\n",
       "    <tr style=\"text-align: right;\">\n",
       "      <th></th>\n",
       "      <th>date</th>\n",
       "      <th>fine_dust(㎍/㎥)</th>\n",
       "      <th>avg_temp</th>\n",
       "      <th>min_temp</th>\n",
       "      <th>max_temp</th>\n",
       "      <th>precipitation(mm)</th>\n",
       "      <th>snow_depth(cm)</th>\n",
       "      <th>avg_wind_speed</th>\n",
       "      <th>datename</th>\n",
       "      <th>day</th>\n",
       "    </tr>\n",
       "  </thead>\n",
       "  <tbody>\n",
       "    <tr>\n",
       "      <th>0</th>\n",
       "      <td>2021-01-01</td>\n",
       "      <td>36.0</td>\n",
       "      <td>-4.2</td>\n",
       "      <td>-9.8</td>\n",
       "      <td>1.6</td>\n",
       "      <td>NaN</td>\n",
       "      <td>NaN</td>\n",
       "      <td>2.0</td>\n",
       "      <td>1월1일</td>\n",
       "      <td>Weekday</td>\n",
       "    </tr>\n",
       "    <tr>\n",
       "      <th>1</th>\n",
       "      <td>2021-01-02</td>\n",
       "      <td>43.0</td>\n",
       "      <td>-5.0</td>\n",
       "      <td>-8.4</td>\n",
       "      <td>-1.4</td>\n",
       "      <td>NaN</td>\n",
       "      <td>NaN</td>\n",
       "      <td>2.6</td>\n",
       "      <td>NaN</td>\n",
       "      <td>Weekend</td>\n",
       "    </tr>\n",
       "  </tbody>\n",
       "</table>\n",
       "</div>"
      ],
      "text/plain": [
       "        date  fine_dust(㎍/㎥)  avg_temp  min_temp  max_temp  precipitation(mm)  \\\n",
       "0 2021-01-01            36.0      -4.2      -9.8       1.6                NaN   \n",
       "1 2021-01-02            43.0      -5.0      -8.4      -1.4                NaN   \n",
       "\n",
       "   snow_depth(cm)  avg_wind_speed datename      day  \n",
       "0             NaN             2.0     1월1일  Weekday  \n",
       "1             NaN             2.6      NaN  Weekend  "
      ]
     },
     "execution_count": 61,
     "metadata": {},
     "output_type": "execute_result"
    }
   ],
   "source": [
    "# 파이썬은 datetime 자료형에서 dt.weekday를 사용하여 0~4는 월~금으로, 5, 6은 토, 일로 값을 메겨 평일/주말 여부를 판단 할 수 있다.\n",
    "# 따라서 np.where를 사용하여서 요일 숫자 값이 5미만이면 평일(Weekday)로, 아니라면 주말(Weekend)로 값을 지정할 수 있다.\n",
    "# 데이터프레임에 \"day\"라는 컬럼을 만들어 지정된 값을 넣을 수 있다.\n",
    "all_df[\"day\"] = np.where(all_df[\"date\"].dt.weekday < 5, \"Weekday\", \"Weekend\")\n",
    "\n",
    "# day컬럼이 잘 들어갔는지 확인\n",
    "all_df.head(2)"
   ]
  },
  {
   "cell_type": "code",
   "execution_count": null,
   "metadata": {},
   "outputs": [],
   "source": [
    "# dt.weekday를 사용하여 평일/주말을 나눴으나, 공휴일 정보가 없어 1월 1일(공휴일)이 평일(Weekday)로 표시된다.\n",
    "# 이 문제를 해결하기위해 공휴일 데이터프레임(holiday_df)을 사용한다."
   ]
  },
  {
   "cell_type": "code",
   "execution_count": 66,
   "metadata": {},
   "outputs": [
    {
     "data": {
      "text/plain": [
       "(        date  fine_dust(㎍/㎥)  avg_temp  min_temp  max_temp  precipitation(mm)  \\\n",
       " 0 2021-01-01            36.0      -4.2      -9.8       1.6                NaN   \n",
       " 1 2021-01-02            43.0      -5.0      -8.4      -1.4                NaN   \n",
       " \n",
       "    snow_depth(cm)  avg_wind_speed datename      day day_type  \n",
       " 0             NaN             2.0     1월1일  Weekday  Weekend  \n",
       " 1             NaN             2.6      NaN  Weekend  Weekend  ,\n",
       "            date  fine_dust(㎍/㎥)  avg_temp  min_temp  max_temp  \\\n",
       " 1398 2024-10-30            28.0      15.7      11.4      21.4   \n",
       " 1399 2024-12-25             NaN       NaN       NaN       NaN   \n",
       " \n",
       "       precipitation(mm)  snow_depth(cm)  avg_wind_speed datename      day  \\\n",
       " 1398                NaN             NaN             1.6      NaN  Weekday   \n",
       " 1399                NaN             NaN             NaN    기독탄신일  Weekday   \n",
       " \n",
       "      day_type  \n",
       " 1398  Weekday  \n",
       " 1399  Weekend  )"
      ]
     },
     "execution_count": 66,
     "metadata": {},
     "output_type": "execute_result"
    }
   ],
   "source": [
    "# 공휴일은 주말과 같은 값(Weekend) 주기\n",
    "# date_name2 시리즈를 만들어서 datename이 있다면, 공휴일이므로 주말로 처리한다 -> 공휴일은 Weekend로 값을 준다\n",
    "# datename에 값이 없는 NaN이라면 공휴일이 아니므로, day컬럼에서 평일/주말 값을 가져와서 date_name2 시리즈에 채우기\n",
    "\n",
    "# apply 활용\n",
    "date_name2 = all_df.apply(lambda row : 'Weekend' if str(row['datename']) != 'nan' else row['day'], axis=1)\n",
    "# date_name2시리즈 생성해서 datename 컬럼을 문자열로 바꿔 datename에 값이 있다면(=nan이 아니라면)\n",
    "# date_name2 시리즈에 Weekend로 값 채우기\n",
    "# nan 이라면 day컬럼의 값으로 채우기\n",
    "\n",
    "# 생성한 date_name2시리즈를 all_df에 day_type컬럼을 생성해서 합치기\n",
    "all_df['day_type'] = date_name2\n",
    "\n",
    "# 확인하기\n",
    "all_df.head(2), all_df.tail(2)"
   ]
  },
  {
   "cell_type": "code",
   "execution_count": 77,
   "metadata": {},
   "outputs": [
    {
     "data": {
      "text/plain": [
       "(        date  fine_dust(㎍/㎥)  avg_temp  min_temp  max_temp  precipitation(mm)  \\\n",
       " 0 2021-01-01            36.0      -4.2      -9.8       1.6                NaN   \n",
       " 1 2021-01-02            43.0      -5.0      -8.4      -1.4                NaN   \n",
       " \n",
       "    snow_depth(cm)  avg_wind_speed day_type  \n",
       " 0             NaN             2.0  Weekend  \n",
       " 1             NaN             2.6  Weekend  ,\n",
       "            date  fine_dust(㎍/㎥)  avg_temp  min_temp  max_temp  \\\n",
       " 1397 2024-10-29             NaN      15.0      13.4      18.3   \n",
       " 1398 2024-10-30            28.0      15.7      11.4      21.4   \n",
       " \n",
       "       precipitation(mm)  snow_depth(cm)  avg_wind_speed day_type  \n",
       " 1397                0.0             NaN             2.3  Weekday  \n",
       " 1398                NaN             NaN             1.6  Weekday  )"
      ]
     },
     "execution_count": 77,
     "metadata": {},
     "output_type": "execute_result"
    }
   ],
   "source": [
    "# 필요한 컬럼과 행만 추출하기\n",
    "all_df = all_df.loc[:1398, ['date', 'fine_dust(㎍/㎥)', 'avg_temp', 'min_temp', 'max_temp', \n",
    "                            'precipitation(mm)', 'snow_depth(cm)', 'avg_wind_speed', 'day_type']]\n",
    "\n",
    "# 필요한 컬럼과 행만 추출되었는지 확인하기\n",
    "all_df.head(2), all_df.tail(2)"
   ]
  },
  {
   "cell_type": "markdown",
   "metadata": {},
   "source": [
    "1-2-2. 연도별, 계절별로 구분하기"
   ]
  },
  {
   "cell_type": "code",
   "execution_count": 80,
   "metadata": {},
   "outputs": [
    {
     "name": "stdout",
     "output_type": "stream",
     "text": [
      "         date  fine_dust(㎍/㎥)  avg_temp  min_temp  max_temp  \\\n",
      "58 2021-02-28            32.0       7.8       3.2      10.8   \n",
      "59 2021-03-01             NaN       4.7       0.5       9.0   \n",
      "\n",
      "    precipitation(mm)  snow_depth(cm)  avg_wind_speed day_type  season  \n",
      "58                NaN             NaN             2.1  Weekend  Winter  \n",
      "59               67.5             2.3             3.5  Weekend  Spring  \n",
      "          date  fine_dust(㎍/㎥)  avg_temp  min_temp  max_temp  \\\n",
      "150 2021-05-31            59.0      19.9      16.5      23.8   \n",
      "151 2021-06-01            52.0      20.2      15.9      23.9   \n",
      "\n",
      "     precipitation(mm)  snow_depth(cm)  avg_wind_speed day_type  season  \n",
      "150                4.0             NaN             1.8  Weekday  Spring  \n",
      "151                3.2             NaN             2.2  Weekday  Summer  \n",
      "          date  fine_dust(㎍/㎥)  avg_temp  min_temp  max_temp  \\\n",
      "242 2021-08-31            37.0      20.5      18.1      23.1   \n",
      "243 2021-09-01             9.0      21.4      18.5      23.9   \n",
      "\n",
      "     precipitation(mm)  snow_depth(cm)  avg_wind_speed day_type  season  \n",
      "242               77.4             NaN             2.3  Weekday  Summer  \n",
      "243                0.8             NaN             2.9  Weekday    Fall  \n",
      "          date  fine_dust(㎍/㎥)  avg_temp  min_temp  max_temp  \\\n",
      "333 2021-11-30            31.0       5.7       0.7       8.9   \n",
      "334 2021-12-01            19.0      -1.3      -3.0       1.5   \n",
      "\n",
      "     precipitation(mm)  snow_depth(cm)  avg_wind_speed day_type  season  \n",
      "333               27.2             NaN             3.7  Weekday    Fall  \n",
      "334                NaN             NaN             4.2  Weekday  Winter  \n"
     ]
    }
   ],
   "source": [
    "# date를 기준으로 계절별 구분 \n",
    "# (봄: 3~5, 여름: 6~8, 가을: 9~11, 겨울: 12~2)\n",
    "conditions = [\n",
    "    ( all_df[\"date\"].dt.month >= 3 ) & ( all_df[\"date\"].dt.month <= 5 ),\n",
    "    ( all_df[\"date\"].dt.month >= 6 ) & ( all_df[\"date\"].dt.month <= 8 ),\n",
    "    ( all_df[\"date\"].dt.month >= 9 ) & ( all_df[\"date\"].dt.month <= 11 ),\n",
    "    ( all_df[\"date\"].dt.month <= 2 ) | ( all_df[\"date\"].dt.month >= 12 )\n",
    "]\n",
    "Season = [\"Spring\", \"Summer\", \"Fall\", \"Winter\"]\n",
    "all_df[\"season\"] = np.select(conditions, Season, default=\"unknown\")\n",
    "\n",
    "print( all_df.iloc[58:60, :] )\n",
    "print( all_df.iloc[150:152, :] )\n",
    "print( all_df.iloc[242:244, :] )\n",
    "print( all_df.iloc[333:335, :] )"
   ]
  },
  {
   "cell_type": "code",
   "execution_count": null,
   "metadata": {},
   "outputs": [],
   "source": []
  }
 ],
 "metadata": {
  "kernelspec": {
   "display_name": "human-da-env",
   "language": "python",
   "name": "python3"
  },
  "language_info": {
   "codemirror_mode": {
    "name": "ipython",
    "version": 3
   },
   "file_extension": ".py",
   "mimetype": "text/x-python",
   "name": "python",
   "nbconvert_exporter": "python",
   "pygments_lexer": "ipython3",
   "version": "3.12.7"
  }
 },
 "nbformat": 4,
 "nbformat_minor": 2
}
