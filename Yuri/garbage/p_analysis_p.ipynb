{
 "cells": [
  {
   "cell_type": "markdown",
   "metadata": {},
   "source": [
    "# 미세먼지_db 종료 후 DF 작업하기\n",
    "(여기서부터 시작)"
   ]
  },
  {
   "cell_type": "code",
   "execution_count": null,
   "metadata": {},
   "outputs": [],
   "source": [
    "import pandas as pd\n",
    "from pandas.api.types import CategoricalDtype\n",
    "import numpy as np\n",
    "import matplotlib.pyplot as plt\n",
    "import seaborn as sns\n",
    "import pymysql\n",
    "# from sqlalchemy import create_engine\n",
    "# !pip install scikit-learn\n",
    "from sklearn.preprocessing import MinMaxScaler\n",
    "from scipy.stats import skew, kurtosis\n",
    "import os"
   ]
  },
  {
   "cell_type": "code",
   "execution_count": null,
   "metadata": {},
   "outputs": [],
   "source": [
    "# matplotlib 한글 사용\n",
    "\n",
    "plt.rcParams['font.family'] ='Malgun Gothic'\n",
    "plt.rcParams['axes.unicode_minus'] =False"
   ]
  },
  {
   "cell_type": "markdown",
   "metadata": {},
   "source": [
    "### 데이터 불러와서 가공하기"
   ]
  },
  {
   "cell_type": "code",
   "execution_count": null,
   "metadata": {},
   "outputs": [],
   "source": [
    "fine_dust_df = pd.read_csv('./data/fine_dust.csv')\n",
    "fine_dust_df.columns"
   ]
  },
  {
   "cell_type": "code",
   "execution_count": null,
   "metadata": {},
   "outputs": [],
   "source": [
    "# 필요 컬럼만 자르기\n",
    "fine_dust = fine_dust_df.loc[:, ['date', 'fine_dust(㎍/㎥)']] # 잘랐으면 비활성화 안 잘랐으면 활성화\n",
    "fine_dust.info()"
   ]
  },
  {
   "cell_type": "markdown",
   "metadata": {},
   "source": [
    "미세먼지 등급별 값 메기기"
   ]
  },
  {
   "cell_type": "code",
   "execution_count": null,
   "metadata": {},
   "outputs": [],
   "source": [
    "# 좋음 (0-30 ㎍/m³) → Good\n",
    "# 보통 (31-80 ㎍/m³) → Moderate\n",
    "# 나쁨 (81-150 ㎍/m³) → Bad\n",
    "# 매우 나쁨 (151 ㎍/m³ 이상) → Very Bad\n",
    "\n",
    "# 새로운 컬럼을 생성하고 조건에 따라 값 입력\n",
    "\n",
    "conditionlist = [\n",
    "    (fine_dust['fine_dust(㎍/㎥)'] <= 30),\n",
    "    (fine_dust['fine_dust(㎍/㎥)'] > 30) & (fine_dust['fine_dust(㎍/㎥)'] <= 80),\n",
    "    (fine_dust['fine_dust(㎍/㎥)'] > 80) & (fine_dust['fine_dust(㎍/㎥)'] <= 150),\n",
    "    (fine_dust['fine_dust(㎍/㎥)'] > 150),\n",
    "]\n",
    "\n",
    "values = ['good', 'normal', 'bad', 'very_bad']\n",
    "\n",
    "fine_dust[\"grade\"] = np.select(conditionlist, values, default=\"unknown\")\n",
    "fine_dust.head(2)"
   ]
  },
  {
   "cell_type": "markdown",
   "metadata": {},
   "source": [
    "fine_dust의 date의 타입 변경 후 평일/주말 나누기"
   ]
  },
  {
   "cell_type": "code",
   "execution_count": null,
   "metadata": {},
   "outputs": [],
   "source": [
    "fine_dust.info() # date 타입이 object임을 확인\n",
    "fine_dust['date'] = pd.to_datetime(fine_dust['date'])\n",
    "# fine_dust.info() # date타입이 datetime64[ns]으로 변경됨"
   ]
  },
  {
   "cell_type": "code",
   "execution_count": null,
   "metadata": {},
   "outputs": [],
   "source": [
    "# fine_dust[\"date\"]에 따라 평일, 주말 나누기(월~금 : 0~4, 토일 : 5, 6)\n",
    "fine_dust[\"day\"] = np.where(fine_dust[\"date\"].dt.weekday < 5, \"weekday\", \"weekend\")\n",
    "fine_dust\n"
   ]
  },
  {
   "cell_type": "markdown",
   "metadata": {},
   "source": [
    "공휴일 데이터인 hd의 date의 타입 변경"
   ]
  },
  {
   "cell_type": "code",
   "execution_count": null,
   "metadata": {},
   "outputs": [],
   "source": [
    "hd = pd.read_csv('./data/hd_21_24.csv', encoding=\"CP949\")\n",
    "hd.rename(columns={\"일시\":\"date\"}, inplace=True)\n",
    "hd['date'] = pd.to_datetime(hd['date'])\n",
    "hd.info()"
   ]
  },
  {
   "cell_type": "markdown",
   "metadata": {},
   "source": [
    "fine_dust['day_type'] 만들어서 평일/주말+공휴일로 나누기 (공휴일은 주말로 처리)"
   ]
  },
  {
   "cell_type": "code",
   "execution_count": null,
   "metadata": {},
   "outputs": [],
   "source": [
    "# fine_dust와 hd DF 합치기\n",
    "m_fine_dust = pd.merge(fine_dust, hd, how='outer', on='date')\n",
    "m_fine_dust.head()"
   ]
  },
  {
   "cell_type": "code",
   "execution_count": null,
   "metadata": {},
   "outputs": [],
   "source": [
    "# apply 활용\n",
    "date_name2 = m_fine_dust.apply(lambda row : 'weekend' \n",
    "                               if str(row['dateName']) != 'nan' else row['day'], axis=1)"
   ]
  },
  {
   "cell_type": "code",
   "execution_count": null,
   "metadata": {},
   "outputs": [],
   "source": [
    "# apply 활용해서 평일, 주말(+공휴일)로 나눈 값을\n",
    "# 합친 df에 적용하기 \n",
    "m_fine_dust['day_type'] = date_name2\n",
    "\n",
    "# 필요한 컬럼/행으로 자르기\n",
    "m_fine_dust = m_fine_dust.loc[:, ['date', 'fine_dust(㎍/㎥)', 'grade', 'day_type']]\n",
    "m_fine_dust = m_fine_dust.iloc[:1329, :]\n",
    "m_fine_dust.head(1), m_fine_dust.tail(1)"
   ]
  },
  {
   "cell_type": "markdown",
   "metadata": {},
   "source": [
    "병합된 DF을 계절별, 연도별로 구분하기"
   ]
  },
  {
   "cell_type": "code",
   "execution_count": null,
   "metadata": {},
   "outputs": [],
   "source": [
    "# date를 기준으로 계절별 구분 (봄: 3~5, 여름: 6~8, 가을: 9~11, 겨울: 12~2)\n",
    "conditions = [\n",
    "    ( m_fine_dust[\"date\"].dt.month >= 3 ) & ( m_fine_dust[\"date\"].dt.month <= 5 ),\n",
    "    ( m_fine_dust[\"date\"].dt.month >= 6 ) & ( m_fine_dust[\"date\"].dt.month <= 8 ),\n",
    "    ( m_fine_dust[\"date\"].dt.month >= 9 ) & ( m_fine_dust[\"date\"].dt.month <= 11 ),\n",
    "]\n",
    "season = [\"Spring\", \"Summer\", \"Fall\"]\n",
    "m_fine_dust[\"season\"] = np.select(conditions, season, default=\"Winter\")\n",
    "\n",
    "print( m_fine_dust.iloc[57:59, :] )\n",
    "print( m_fine_dust.iloc[145:147, :] )\n",
    "print( m_fine_dust.iloc[237:239, :] )\n",
    "print( m_fine_dust.iloc[325:327, :] )"
   ]
  },
  {
   "cell_type": "code",
   "execution_count": null,
   "metadata": {},
   "outputs": [],
   "source": [
    "# date를 기준으로 연도 구분\n",
    "m_fine_dust[\"year\"] = m_fine_dust[\"date\"].dt.year\n",
    "print( m_fine_dust.iloc[356:358, :] )"
   ]
  },
  {
   "cell_type": "markdown",
   "metadata": {},
   "source": [
    "결측치 수정 ( 미세먼지 농도 결측치를 포함되는 계절의 평균으로 대체 )"
   ]
  },
  {
   "cell_type": "code",
   "execution_count": null,
   "metadata": {},
   "outputs": [],
   "source": [
    "print( \"평일 수 : \", len(m_fine_dust.loc[m_fine_dust[\"day_type\"] == \"weekday\"]) )\n",
    "print( \"주말 및 공휴일 수 : \", len(m_fine_dust.loc[m_fine_dust[\"day_type\"] == \"weekend\"]) )"
   ]
  },
  {
   "cell_type": "code",
   "execution_count": null,
   "metadata": {},
   "outputs": [],
   "source": [
    "# m_fine_dust[m_fine_dust['fine_dust(㎍/㎥)'].isnull()]\n",
    "# 결측치 행\n",
    "        # 58\t2021-03-01\tNaN\tNaN\tweekend\n",
    "        # 504\t2022-06-06\tNaN\tNaN\tweekend\n",
    "        # 620\t2022-10-10\tNaN\tNaN\tweekend\n",
    "        # 822\t2023-05-05\tNaN\tNaN\tweekend\n",
    "        # 1176\t2024-05-15\tNaN\tNaN\tweekend\n",
    "        # 1293\t2024-09-16\tNaN\tNaN\tweekend\n",
    "# 계절별 평균을 결측치에 넣기로 함\n",
    "\n",
    "# 계절별 평균 구하기\n",
    "season_means = m_fine_dust.groupby('season')['fine_dust(㎍/㎥)'].mean()\n",
    "                # Fall      28.840909\n",
    "                # Spring    57.397101\n",
    "                # Summer    28.062500\n",
    "                # Winter    46.641509\n",
    "\n",
    "# 결측치행에 평균값 넣기\n",
    "m_fine_dust[\"fine_dust(㎍/㎥)\"] = m_fine_dust[\"fine_dust(㎍/㎥)\"]. \\\n",
    "                        fillna(m_fine_dust.groupby(\"season\")[\"fine_dust(㎍/㎥)\"].transform(\"mean\"))\n",
    "\n",
    "m_fine_dust[m_fine_dust['fine_dust(㎍/㎥)'].isnull()]\n"
   ]
  },
  {
   "cell_type": "markdown",
   "metadata": {},
   "source": [
    "범주화"
   ]
  },
  {
   "cell_type": "code",
   "execution_count": null,
   "metadata": {},
   "outputs": [],
   "source": [
    "# 범주화\n",
    "# 순서있는 범주형 : ordered = True, 순서 없는 범주형 : ordered = False\n",
    "c_grade = ['good', 'normal', 'bad', 'very_bad']\n",
    "c_grade1 = CategoricalDtype(categories = c_grade, ordered = True)\n",
    "\n",
    "c_season = [\"Spring\", \"Summer\", \"Fall\", \"Winter\"]\n",
    "c_season1 = CategoricalDtype(categories = c_season, ordered = True)\n",
    "\n",
    "m_fine_dust[\"grade\"] = m_fine_dust[\"grade\"].astype(c_grade1)\n",
    "m_fine_dust[\"season\"] = m_fine_dust[\"season\"].astype(c_season1)\n",
    "m_fine_dust.info()"
   ]
  },
  {
   "cell_type": "markdown",
   "metadata": {},
   "source": [
    "### 데이터 분석"
   ]
  },
  {
   "cell_type": "markdown",
   "metadata": {},
   "source": [
    "1. 단일 그룹 분석"
   ]
  },
  {
   "cell_type": "code",
   "execution_count": null,
   "metadata": {},
   "outputs": [],
   "source": [
    "def group_analysis_by_single_column(df, group_col_name, col_name):\n",
    "    # 그룹화\n",
    "    grouped_df = df.groupby(group_col_name, observed=True)\n",
    "\n",
    "    # 그룹별 최대/최소/평균/분산/빈도 계산\n",
    "    stats = grouped_df[col_name].agg([\n",
    "        (\"Max\", \"max\"),\n",
    "        (\"Min\", \"min\"),\n",
    "        (\"Mean\", \"mean\"),\n",
    "        (\"Variance\", \"var\"),\n",
    "        (\"Count\", \"count\")\n",
    "    ])\n",
    "    return stats\n",
    "\n",
    "# 단일 그룹 분석 결과를 데이터 프레임으로 저장\n",
    "df_year_stats = group_analysis_by_single_column(\n",
    "                    df = m_fine_dust, \n",
    "                    group_col_name = \"year\", \n",
    "                    col_name = \"fine_dust(㎍/㎥)\")\n",
    "df_grade_stats = group_analysis_by_single_column(\n",
    "                    df = m_fine_dust, \n",
    "                    group_col_name = \"grade\", \n",
    "                    col_name = \"fine_dust(㎍/㎥)\")\n",
    "df_season_stats = group_analysis_by_single_column(\n",
    "                    df = m_fine_dust, \n",
    "                    group_col_name = \"season\", \n",
    "                    col_name = \"fine_dust(㎍/㎥)\")\n",
    "df_day_stats = group_analysis_by_single_column(\n",
    "                    df = m_fine_dust, \n",
    "                    group_col_name = \"day_type\", \n",
    "                    col_name = \"fine_dust(㎍/㎥)\")\n",
    "\n",
    "# 딕셔너리로 데이터프레입 합치기\n",
    "combined_stats = {\n",
    "    \"Year\": df_year_stats,\n",
    "    \"Grade\": df_grade_stats,\n",
    "    \"Season\": df_season_stats,\n",
    "    \"Day Type\": df_day_stats\n",
    "}\n",
    "\n",
    "print( \"단일 그룹 분석\")\n",
    "# 결과 확인\n",
    "for key, value in combined_stats.items():\n",
    "    print(f\"\\n\\n{key} Stats:\\n\", value)\n"
   ]
  },
  {
   "cell_type": "markdown",
   "metadata": {},
   "source": [
    "그래프별 데이터 분석 (분석내용 주석처리)\n",
    "\n",
    "<!-- \n",
    "Yearly Fine Dust Statistics (연도별 미세먼지 통계):\n",
    "2021년이 가장 높은 최대값(약 380)\n",
    "2022-2023년은 최대값이 감소하는 추세\n",
    "2024년(1월-10월30일)은 다른 연도보다 데이터 수(count)가 적음\n",
    "전반적으로 평균값은 50 미만으로 유지됨\n",
    "\n",
    "Grade-wise Fine Dust Statistics (등급별 미세먼지 통계):\n",
    "very_bad(매우 나쁨) 등급이 가장 높은 최대값(약 380)\n",
    "등급이 나빠질수록(good→very_bad) 최대값, 최소값, 평균값 모두 증가\n",
    "good(좋음)과 normal(보통)은 상대적으로 많은 발생 빈도\n",
    "very_bad는 발생 빈도가 가장 낮음\n",
    "\n",
    "Seasonal Fine Dust Statistics (계절별 미세먼지 통계):\n",
    "봄(Spring)에 가장 높은 최대값\n",
    "여름(Summer)과 가을(Fall)은 상대적으로 낮은 수치\n",
    "봄과 여름이 다른 계절보다 발생 빈도가 높음\n",
    "겨울(Winter)은 중간 정도의 수치를 보임\n",
    "\n",
    "Weekday/Weekend Fine Dust Statistics (평일/주말 미세먼지 통계):\n",
    "평일(weekday)과 주말(weekend)의 최대값이 비슷\n",
    "평일이 주말보다 약간 더 많은 발생 빈도\n",
    "평균값은 평일과 주말이 비슷한 수준(약 40)\n",
    "\n",
    "전반적인 특징:\n",
    "계절성: 봄철에 미세먼지가 가장 심각\n",
    "연도별 개선: 2021년 이후 최대값이 감소하는 추세\n",
    "발생 빈도: 좋음/보통 등급이 가장 많이 발생\n",
    "평일/주말 차이: 큰 차이는 없으나 평일이 조금 더 빈번\n",
    "\n",
    "미세먼지 관리나 대책 수립 시 봄철에 더 집중적인 관리가 필요하며, \n",
    "전반적으로 미세먼지 상황이 개선되고 있다는 것을 알 수 있음\n",
    " -->"
   ]
  },
  {
   "cell_type": "markdown",
   "metadata": {},
   "source": [
    "2. 두 개 변수 조합 분석"
   ]
  },
  {
   "cell_type": "code",
   "execution_count": null,
   "metadata": {},
   "outputs": [],
   "source": [
    "# 2-1. 연도와 등급을 조합해서 분석\n",
    "# 2-2. 연도와 계절을 조합해서 분석\n",
    "# 2-3. 연도와 평일/주말을 조합해서 분석\n",
    "# 2-4. 등급과 계절을 조합해서 분석\n",
    "# 2-5. 등급과 평일/주말을 조합해서 분석\n",
    "# 2-6. 계절과 평일/주말을 조합해서 분석"
   ]
  },
  {
   "cell_type": "code",
   "execution_count": null,
   "metadata": {},
   "outputs": [],
   "source": [
    "def group_analysis_by_two_columns(df, group_col1, group_col2, target_col):\n",
    "    # 두 컬럼으로 그룹화\n",
    "    grouped_df = df.groupby([group_col1, group_col2], observed=True)\n",
    "    \n",
    "    # 통계 계산 및 컬럼 이름 지정 (열 이름, 계산 방법)\n",
    "    stats = grouped_df[target_col].agg([\n",
    "    (\"Max\", \"max\"),\n",
    "    (\"Min\", \"min\"),\n",
    "    (\"Mean\", \"mean\"),\n",
    "    (\"Variance\", \"var\"),\n",
    "    (\"Count\", \"count\"),\n",
    "    (\"Median\", \"median\"),                   # 중앙값\n",
    "    (\"Q1\", lambda x: x.quantile(0.25)),     # 1사분위수 (Q1)\n",
    "    (\"Q3\", lambda x: x.quantile(0.75)),     # 3사분위수 (Q3)\n",
    "    (\"IQR\", lambda x: x.quantile(0.75) - x.quantile(0.25)),     # IQR\n",
    "    (\"Skewness\", lambda x: skew(x)),        # 왜도\n",
    "    (\"Kurtosis\", lambda x: kurtosis(x)),    # 첨도\n",
    "    (\"Range\", lambda x: x.max() - x.min())  # 범위\n",
    "])\n",
    "    return stats\n",
    "\n",
    "# 함수 실행 예시\n",
    "df_year_grade_stats = group_analysis_by_two_columns(\n",
    "    df = m_fine_dust,\n",
    "    group_col1 = \"year\", \n",
    "    group_col2 = \"grade\", \n",
    "    target_col = \"fine_dust(㎍/㎥)\")\n",
    "df_year_season_stats = group_analysis_by_two_columns(\n",
    "    df = m_fine_dust,\n",
    "    group_col1 = \"year\", \n",
    "    group_col2 = \"season\", \n",
    "    target_col = \"fine_dust(㎍/㎥)\")\n",
    "df_year_day_stats = group_analysis_by_two_columns(\n",
    "    df = m_fine_dust,\n",
    "    group_col1 = \"year\", \n",
    "    group_col2 = \"day_type\", \n",
    "    target_col = \"fine_dust(㎍/㎥)\")\n",
    "df_grade_season_stats = group_analysis_by_two_columns(\n",
    "    df = m_fine_dust,\n",
    "    group_col1 = \"grade\", \n",
    "    group_col2 = \"season\", \n",
    "    target_col = \"fine_dust(㎍/㎥)\")\n",
    "df_grade_day_stats = group_analysis_by_two_columns(\n",
    "    df = m_fine_dust,\n",
    "    group_col1 = \"grade\", \n",
    "    group_col2 = \"day_type\", \n",
    "    target_col = \"fine_dust(㎍/㎥)\")\n",
    "df_season_day_stats = group_analysis_by_two_columns(\n",
    "    df = m_fine_dust,\n",
    "    group_col1 = \"season\", \n",
    "    group_col2 = \"day_type\", \n",
    "    target_col = \"fine_dust(㎍/㎥)\")\n",
    "\n",
    "# 결과를 딕셔너리로 정리\n",
    "double_group_stats = {\n",
    "    \"Year-Grade\": df_year_grade_stats,\n",
    "    \"Year-Season\": df_year_season_stats,\n",
    "    \"Year-Day\": df_year_day_stats,\n",
    "    \"Grade-Season\": df_grade_season_stats,\n",
    "    \"Grade-Day\": df_grade_day_stats,\n",
    "    \"Season-Day\": df_season_day_stats\n",
    "}\n",
    "\n",
    "# 결과 출력\n",
    "print(\"2. 이중 그룹 분석\")\n",
    "for key, value in double_group_stats.items():\n",
    "    print(f\"\\n{key} Stats:\\n\", value)"
   ]
  },
  {
   "cell_type": "markdown",
   "metadata": {},
   "source": [
    "3. 세 개 변수 조합 분석"
   ]
  },
  {
   "cell_type": "code",
   "execution_count": null,
   "metadata": {},
   "outputs": [],
   "source": [
    "# 3-1. 연도와 등급과 계절을 조합해서 분석\n",
    "# 3-2. 연도와 등급과 평일/주말을 조합해서 분석\n",
    "# 3-3. 등급과 계절과 평일/주말을 주합해서 분석"
   ]
  },
  {
   "cell_type": "code",
   "execution_count": null,
   "metadata": {},
   "outputs": [],
   "source": [
    "def group_analysis_by_three_columns(df, group_col1, group_col2, group_col3, target_col):\n",
    "    # 세 컬럼으로 그룹화\n",
    "    grouped_df = df.groupby([group_col1, group_col2, group_col3], observed=True)\n",
    "\n",
    "    # 통계 계산 및 컬럼 이름 지정\n",
    "    stats = grouped_df[target_col].agg([\n",
    "    (\"Max\", \"max\"),                    # (열 이름, 계산 방법)\n",
    "    (\"Min\", \"min\"),\n",
    "    (\"Mean\", \"mean\"),\n",
    "    (\"Variance\", \"var\"),\n",
    "    (\"Count\", \"count\"),\n",
    "    (\"Median\", \"median\"),                   # 중앙값\n",
    "    (\"Q1\", lambda x: x.quantile(0.25)),     # 1사분위수 (Q1)\n",
    "    (\"Q3\", lambda x: x.quantile(0.75)),     # 3사분위수 (Q3)\n",
    "    (\"IQR\", lambda x: x.quantile(0.75) - x.quantile(0.25)),     # IQR\n",
    "    (\"Skewness\", lambda x: skew(x)),        # 왜도\n",
    "    (\"Kurtosis\", lambda x: kurtosis(x)),    # 첨도\n",
    "    (\"Range\", lambda x: x.max() - x.min())  # 범위\n",
    "])\n",
    "    return stats\n",
    "\n",
    "# 함수 실행 예시\n",
    "df_year_grade_season_stats = group_analysis_by_three_columns(\n",
    "                                df = m_fine_dust,\n",
    "                                group_col1 = \"year\", \n",
    "                                group_col2 = \"grade\", \n",
    "                                group_col3 = \"season\", \n",
    "                                target_col = \"fine_dust(㎍/㎥)\")\n",
    "df_year_grade_day_stats = group_analysis_by_three_columns(\n",
    "                                df = m_fine_dust,\n",
    "                                group_col1 = \"year\", \n",
    "                                group_col2 = \"grade\", \n",
    "                                group_col3 = \"day_type\", \n",
    "                                target_col = \"fine_dust(㎍/㎥)\")\n",
    "df_grade_season_day_stats = group_analysis_by_three_columns(\n",
    "                                df = m_fine_dust,\n",
    "                                group_col1 = \"grade\", \n",
    "                                group_col2 = \"season\", \n",
    "                                group_col3 = \"day_type\", \n",
    "                                target_col = \"fine_dust(㎍/㎥)\")\n",
    "\n",
    "# 결과를 딕셔너리로 정리\n",
    "triple_group_stats = {\n",
    "    \"Year-Grade-Season\": df_year_grade_season_stats,\n",
    "    \"Year-Grade-Day\": df_year_grade_day_stats,\n",
    "    \"Grade-Season-Day\": df_grade_season_day_stats,\n",
    "}\n",
    "\n",
    "# 결과 출력\n",
    "print(\"2. 삼중 그룹 분석\")\n",
    "for key, value in triple_group_stats.items():\n",
    "    print(f\"\\n{key} Stats:\\n\", value)"
   ]
  },
  {
   "cell_type": "markdown",
   "metadata": {},
   "source": [
    "4. 모든 변수 조합 분석"
   ]
  },
  {
   "cell_type": "code",
   "execution_count": null,
   "metadata": {},
   "outputs": [],
   "source": [
    "# 4-1. 연도와 등급과 계절과 평일/주말을 조합해서 분석"
   ]
  },
  {
   "cell_type": "code",
   "execution_count": null,
   "metadata": {},
   "outputs": [],
   "source": [
    "def group_analysis_by_four_columns(df, group_col1, group_col2, group_col3, group_col4, target_col):\n",
    "    # 네 컬럼으로 그룹화\n",
    "    grouped_df = df.groupby([group_col1, group_col2, group_col3, group_col4], observed=True)\n",
    "\n",
    "    # 통계 계산 및 컬럼 이름 지정\n",
    "    stats = grouped_df[target_col].agg([\n",
    "    (\"Max\", \"max\"),                    # (열 이름, 계산 방법)\n",
    "    (\"Min\", \"min\"),\n",
    "    (\"Mean\", \"mean\"),\n",
    "    (\"Variance\", \"var\"),\n",
    "    (\"Count\", \"count\"),\n",
    "    (\"Median\", \"median\"),                   # 중앙값\n",
    "    (\"Q1\", lambda x: x.quantile(0.25)),     # 1사분위수 (Q1)\n",
    "    (\"Q3\", lambda x: x.quantile(0.75)),     # 3사분위수 (Q3)\n",
    "    (\"IQR\", lambda x: x.quantile(0.75) - x.quantile(0.25)),     # IQR\n",
    "    (\"Skewness\", lambda x: skew(x)),        # 왜도\n",
    "    (\"Kurtosis\", lambda x: kurtosis(x)),    # 첨도\n",
    "    (\"Range\", lambda x: x.max() - x.min())  # 범위\n",
    "])\n",
    "    return stats\n",
    "\n",
    "# 함수 실행 예시\n",
    "df_year_season_grade_day_stats = group_analysis_by_four_columns(\n",
    "                                df = m_fine_dust,\n",
    "                                group_col1 = \"year\", \n",
    "                                group_col2 = \"season\",\n",
    "                                group_col3 = \"grade\",  \n",
    "                                group_col4 = \"day_type\",\n",
    "                                target_col = \"fine_dust(㎍/㎥)\")\n",
    "\n",
    "# 결과를 딕셔너리로 정리\n",
    "quadruple_group_stats = {\n",
    "    \"Year-Grade-Season\": df_year_season_grade_day_stats\n",
    "}\n",
    "\n",
    "# 결과 출력\n",
    "print(\"2. 사중 그룹 분석\")\n",
    "for key, value in quadruple_group_stats.items():\n",
    "    print(f\"\\n{key} Stats:\\n\", value)"
   ]
  },
  {
   "cell_type": "markdown",
   "metadata": {},
   "source": [
    "딕셔너리를 csv파일로 저장하기"
   ]
  },
  {
   "cell_type": "code",
   "execution_count": null,
   "metadata": {},
   "outputs": [],
   "source": [
    "import os\n",
    "import pandas as pd\n",
    "\n",
    "def save_stats_with_check(combined_stats, double_group_stats, triple_group_stats, quadruple_group_stats):\n",
    "    print(\"데이터 구조 확인 중...\")\n",
    "    print_data_structure(combined_stats, \"combined_stats\")\n",
    "    print_data_structure(double_group_stats, \"double_group_stats\")\n",
    "    print_data_structure(triple_group_stats, \"triple_group_stats\")\n",
    "    print_data_structure(quadruple_group_stats, \"quadruple_group_stats\")\n",
    "    \n",
    "    print(\"\\n저장 시작...\")\n",
    "    save_multiindex_stats_to_csv(\n",
    "        combined_stats,\n",
    "        double_group_stats,\n",
    "        triple_group_stats,\n",
    "        quadruple_group_stats\n",
    "    )\n",
    "\n",
    "def print_data_structure(data, name):\n",
    "    \"\"\"데이터 구조를 출력하여 확인\"\"\"\n",
    "    print(f\"{name} 구조:\")\n",
    "    if isinstance(data, dict):\n",
    "        print({key: type(value) for key, value in data.items()})\n",
    "    else:\n",
    "        print(f\"{name} is {type(data)}\")\n",
    "\n",
    "def save_multiindex_stats_to_csv(*args):\n",
    "    \"\"\"각 딕셔너리 내 DataFrame을 개별 CSV로 저장\"\"\"\n",
    "    # Set the directory path\n",
    "    directory = \"../dict_to_csv/\"\n",
    "    # Create the directory if it does not exist\n",
    "    os.makedirs(directory, exist_ok=True)\n",
    "    \n",
    "    for i, stats in enumerate(args, start=1):\n",
    "        if isinstance(stats, dict):\n",
    "            for key, df in stats.items():\n",
    "                if isinstance(df, pd.DataFrame):\n",
    "                    filename = os.path.join(directory, f\"stats_{i}_{key}.csv\")\n",
    "                    df.to_csv(filename)\n",
    "                    print(f\"{filename} 파일로 저장되었습니다.\")\n",
    "                else:\n",
    "                    print(f\"{key}는 DataFrame 형식이 아니므로 CSV로 저장할 수 없습니다.\")\n",
    "        else:\n",
    "            print(f\"stats_{i}는 딕셔너리 형식이 아닙니다.\")\n",
    "\n",
    "# 예제 실행 (실제 데이터로 교체)\n",
    "save_stats_with_check(combined_stats, double_group_stats, triple_group_stats, quadruple_group_stats)\n"
   ]
  },
  {
   "cell_type": "markdown",
   "metadata": {},
   "source": [
    "# 날씨_db 종료 후 DF 작업하기\n",
    "(여기서부터 시작)"
   ]
  },
  {
   "cell_type": "code",
   "execution_count": 2,
   "metadata": {},
   "outputs": [],
   "source": [
    "import pandas as pd\n",
    "from pandas.api.types import CategoricalDtype\n",
    "import numpy as np\n",
    "import matplotlib.pyplot as plt\n",
    "import seaborn as sns\n",
    "import pymysql\n",
    "# from sqlalchemy import create_engine\n",
    "# !pip install scikit-learn\n",
    "from sklearn.preprocessing import MinMaxScaler\n",
    "from scipy.stats import skew, kurtosis\n",
    "import os"
   ]
  },
  {
   "cell_type": "code",
   "execution_count": 3,
   "metadata": {},
   "outputs": [],
   "source": [
    "# matplotlib 한글 사용\n",
    "\n",
    "plt.rcParams['font.family'] ='Malgun Gothic'\n",
    "plt.rcParams['axes.unicode_minus'] =False"
   ]
  },
  {
   "cell_type": "markdown",
   "metadata": {},
   "source": [
    "### 데이터 불러와서 가공하기 - 강수량"
   ]
  },
  {
   "cell_type": "code",
   "execution_count": 4,
   "metadata": {},
   "outputs": [
    {
     "name": "stdout",
     "output_type": "stream",
     "text": [
      "Index(['Unnamed: 0', 'station_id', 'station_name', 'date_time', 'avg_temp',\n",
      "       'min_temp', 'max_temp', 'daily_precipitation', 'avg_wind_speed',\n",
      "       'daily_snow_depth'],\n",
      "      dtype='object')\n"
     ]
    },
    {
     "data": {
      "text/html": [
       "<div>\n",
       "<style scoped>\n",
       "    .dataframe tbody tr th:only-of-type {\n",
       "        vertical-align: middle;\n",
       "    }\n",
       "\n",
       "    .dataframe tbody tr th {\n",
       "        vertical-align: top;\n",
       "    }\n",
       "\n",
       "    .dataframe thead th {\n",
       "        text-align: right;\n",
       "    }\n",
       "</style>\n",
       "<table border=\"1\" class=\"dataframe\">\n",
       "  <thead>\n",
       "    <tr style=\"text-align: right;\">\n",
       "      <th></th>\n",
       "      <th>Unnamed: 0</th>\n",
       "      <th>station_id</th>\n",
       "      <th>station_name</th>\n",
       "      <th>date_time</th>\n",
       "      <th>avg_temp</th>\n",
       "      <th>min_temp</th>\n",
       "      <th>max_temp</th>\n",
       "      <th>daily_precipitation</th>\n",
       "      <th>avg_wind_speed</th>\n",
       "      <th>daily_snow_depth</th>\n",
       "    </tr>\n",
       "  </thead>\n",
       "  <tbody>\n",
       "    <tr>\n",
       "      <th>0</th>\n",
       "      <td>0</td>\n",
       "      <td>108</td>\n",
       "      <td>서울</td>\n",
       "      <td>2021-01-01</td>\n",
       "      <td>-4.2</td>\n",
       "      <td>-9.8</td>\n",
       "      <td>1.6</td>\n",
       "      <td>NaN</td>\n",
       "      <td>2.0</td>\n",
       "      <td>NaN</td>\n",
       "    </tr>\n",
       "  </tbody>\n",
       "</table>\n",
       "</div>"
      ],
      "text/plain": [
       "   Unnamed: 0  station_id station_name   date_time  avg_temp  min_temp  \\\n",
       "0           0         108           서울  2021-01-01      -4.2      -9.8   \n",
       "\n",
       "   max_temp  daily_precipitation  avg_wind_speed  daily_snow_depth  \n",
       "0       1.6                  NaN             2.0               NaN  "
      ]
     },
     "execution_count": 4,
     "metadata": {},
     "output_type": "execute_result"
    }
   ],
   "source": [
    "wt_df = pd.read_csv('./data/weather_data.csv')\n",
    "print(wt_df.columns)\n",
    "wt_df.head(1)"
   ]
  },
  {
   "cell_type": "code",
   "execution_count": 5,
   "metadata": {},
   "outputs": [
    {
     "name": "stdout",
     "output_type": "stream",
     "text": [
      "<class 'pandas.core.frame.DataFrame'>\n",
      "RangeIndex: 1399 entries, 0 to 1398\n",
      "Data columns (total 2 columns):\n",
      " #   Column             Non-Null Count  Dtype  \n",
      "---  ------             --------------  -----  \n",
      " 0   Date               1399 non-null   object \n",
      " 1   Precipitation(mm)  591 non-null    float64\n",
      "dtypes: float64(1), object(1)\n",
      "memory usage: 22.0+ KB\n"
     ]
    }
   ],
   "source": [
    "# 필요 컬럼만 자르기 - 강수량\n",
    "wt_df = wt_df.loc[:, ['date_time', 'daily_precipitation']] \n",
    "wt_df.columns = ['Date', 'Precipitation(mm)']\n",
    "wt_df.info()"
   ]
  },
  {
   "cell_type": "code",
   "execution_count": 6,
   "metadata": {},
   "outputs": [
    {
     "data": {
      "text/plain": [
       "np.float64(176.2)"
      ]
     },
     "execution_count": 6,
     "metadata": {},
     "output_type": "execute_result"
    }
   ],
   "source": [
    "wt_df[\"Precipitation(mm)\"].max()"
   ]
  },
  {
   "cell_type": "markdown",
   "metadata": {},
   "source": [
    "강수량별 값 메기기"
   ]
  },
  {
   "cell_type": "code",
   "execution_count": 7,
   "metadata": {},
   "outputs": [
    {
     "data": {
      "text/html": [
       "<div>\n",
       "<style scoped>\n",
       "    .dataframe tbody tr th:only-of-type {\n",
       "        vertical-align: middle;\n",
       "    }\n",
       "\n",
       "    .dataframe tbody tr th {\n",
       "        vertical-align: top;\n",
       "    }\n",
       "\n",
       "    .dataframe thead th {\n",
       "        text-align: right;\n",
       "    }\n",
       "</style>\n",
       "<table border=\"1\" class=\"dataframe\">\n",
       "  <thead>\n",
       "    <tr style=\"text-align: right;\">\n",
       "      <th></th>\n",
       "      <th>Date</th>\n",
       "      <th>Precipitation(mm)</th>\n",
       "      <th>Grade</th>\n",
       "    </tr>\n",
       "  </thead>\n",
       "  <tbody>\n",
       "    <tr>\n",
       "      <th>0</th>\n",
       "      <td>2021-01-01</td>\n",
       "      <td>NaN</td>\n",
       "      <td>Dry</td>\n",
       "    </tr>\n",
       "    <tr>\n",
       "      <th>1</th>\n",
       "      <td>2021-01-02</td>\n",
       "      <td>NaN</td>\n",
       "      <td>Dry</td>\n",
       "    </tr>\n",
       "  </tbody>\n",
       "</table>\n",
       "</div>"
      ],
      "text/plain": [
       "         Date  Precipitation(mm) Grade\n",
       "0  2021-01-01                NaN   Dry\n",
       "1  2021-01-02                NaN   Dry"
      ]
     },
     "execution_count": 7,
     "metadata": {},
     "output_type": "execute_result"
    }
   ],
   "source": [
    "# 건조 (Dry): 강수량이 없는 날, 즉 0mm\n",
    "# 약강수 (Light): 0mm < 강수량 ≤ 10mm\n",
    "# 중강수 (Moderate): 10mm < 강수량 ≤ 50mm\n",
    "# 대강수 (Heavy): 강수량 > 50mm\n",
    "\n",
    "# 새로운 컬럼을 생성하고 조건에 따라 값 입력\n",
    "\n",
    "precipitation_list = [\n",
    "    (wt_df['Precipitation(mm)'] == 00),\n",
    "    (wt_df['Precipitation(mm)'] > 00) & (wt_df['Precipitation(mm)'] <= 10),\n",
    "    (wt_df['Precipitation(mm)'] > 10) & (wt_df['Precipitation(mm)'] <= 50),\n",
    "    (wt_df['Precipitation(mm)'] > 50),\n",
    "]\n",
    "\n",
    "precipitation_values = ['Dry', 'Light', 'Moderate', 'Heavy']\n",
    "\n",
    "wt_df[\"Grade\"] = np.select(precipitation_list, precipitation_values, default=\"Dry\")\n",
    "wt_df.head(2)"
   ]
  },
  {
   "cell_type": "markdown",
   "metadata": {},
   "source": [
    "wt_df의 Date의 타입 변경 후 평일/주말 나누기"
   ]
  },
  {
   "cell_type": "code",
   "execution_count": null,
   "metadata": {},
   "outputs": [
    {
     "name": "stdout",
     "output_type": "stream",
     "text": [
      "<class 'pandas.core.frame.DataFrame'>\n",
      "RangeIndex: 1399 entries, 0 to 1398\n",
      "Data columns (total 3 columns):\n",
      " #   Column             Non-Null Count  Dtype  \n",
      "---  ------             --------------  -----  \n",
      " 0   Date               1399 non-null   object \n",
      " 1   Precipitation(mm)  591 non-null    float64\n",
      " 2   Grade              1399 non-null   object \n",
      "dtypes: float64(1), object(2)\n",
      "memory usage: 32.9+ KB\n"
     ]
    }
   ],
   "source": [
    "wt_df.info() # date 타입이 object임을 확인\n",
    "wt_df['Date'] = pd.to_datetime(wt_df['Date'])\n",
    "# wt_df.info() # date타입이 datetime64[ns]으로 변경됨"
   ]
  },
  {
   "cell_type": "code",
   "execution_count": 9,
   "metadata": {},
   "outputs": [
    {
     "data": {
      "text/html": [
       "<div>\n",
       "<style scoped>\n",
       "    .dataframe tbody tr th:only-of-type {\n",
       "        vertical-align: middle;\n",
       "    }\n",
       "\n",
       "    .dataframe tbody tr th {\n",
       "        vertical-align: top;\n",
       "    }\n",
       "\n",
       "    .dataframe thead th {\n",
       "        text-align: right;\n",
       "    }\n",
       "</style>\n",
       "<table border=\"1\" class=\"dataframe\">\n",
       "  <thead>\n",
       "    <tr style=\"text-align: right;\">\n",
       "      <th></th>\n",
       "      <th>Date</th>\n",
       "      <th>Precipitation(mm)</th>\n",
       "      <th>Grade</th>\n",
       "      <th>Day</th>\n",
       "    </tr>\n",
       "  </thead>\n",
       "  <tbody>\n",
       "    <tr>\n",
       "      <th>0</th>\n",
       "      <td>2021-01-01</td>\n",
       "      <td>NaN</td>\n",
       "      <td>Dry</td>\n",
       "      <td>Weekday</td>\n",
       "    </tr>\n",
       "    <tr>\n",
       "      <th>1</th>\n",
       "      <td>2021-01-02</td>\n",
       "      <td>NaN</td>\n",
       "      <td>Dry</td>\n",
       "      <td>Weekend</td>\n",
       "    </tr>\n",
       "    <tr>\n",
       "      <th>2</th>\n",
       "      <td>2021-01-03</td>\n",
       "      <td>NaN</td>\n",
       "      <td>Dry</td>\n",
       "      <td>Weekend</td>\n",
       "    </tr>\n",
       "    <tr>\n",
       "      <th>3</th>\n",
       "      <td>2021-01-04</td>\n",
       "      <td>0.0</td>\n",
       "      <td>Dry</td>\n",
       "      <td>Weekday</td>\n",
       "    </tr>\n",
       "    <tr>\n",
       "      <th>4</th>\n",
       "      <td>2021-01-05</td>\n",
       "      <td>0.0</td>\n",
       "      <td>Dry</td>\n",
       "      <td>Weekday</td>\n",
       "    </tr>\n",
       "    <tr>\n",
       "      <th>...</th>\n",
       "      <td>...</td>\n",
       "      <td>...</td>\n",
       "      <td>...</td>\n",
       "      <td>...</td>\n",
       "    </tr>\n",
       "    <tr>\n",
       "      <th>1394</th>\n",
       "      <td>2024-10-26</td>\n",
       "      <td>NaN</td>\n",
       "      <td>Dry</td>\n",
       "      <td>Weekend</td>\n",
       "    </tr>\n",
       "    <tr>\n",
       "      <th>1395</th>\n",
       "      <td>2024-10-27</td>\n",
       "      <td>0.0</td>\n",
       "      <td>Dry</td>\n",
       "      <td>Weekend</td>\n",
       "    </tr>\n",
       "    <tr>\n",
       "      <th>1396</th>\n",
       "      <td>2024-10-28</td>\n",
       "      <td>0.0</td>\n",
       "      <td>Dry</td>\n",
       "      <td>Weekday</td>\n",
       "    </tr>\n",
       "    <tr>\n",
       "      <th>1397</th>\n",
       "      <td>2024-10-29</td>\n",
       "      <td>0.0</td>\n",
       "      <td>Dry</td>\n",
       "      <td>Weekday</td>\n",
       "    </tr>\n",
       "    <tr>\n",
       "      <th>1398</th>\n",
       "      <td>2024-10-30</td>\n",
       "      <td>NaN</td>\n",
       "      <td>Dry</td>\n",
       "      <td>Weekday</td>\n",
       "    </tr>\n",
       "  </tbody>\n",
       "</table>\n",
       "<p>1399 rows × 4 columns</p>\n",
       "</div>"
      ],
      "text/plain": [
       "           Date  Precipitation(mm) Grade      Day\n",
       "0    2021-01-01                NaN   Dry  Weekday\n",
       "1    2021-01-02                NaN   Dry  Weekend\n",
       "2    2021-01-03                NaN   Dry  Weekend\n",
       "3    2021-01-04                0.0   Dry  Weekday\n",
       "4    2021-01-05                0.0   Dry  Weekday\n",
       "...         ...                ...   ...      ...\n",
       "1394 2024-10-26                NaN   Dry  Weekend\n",
       "1395 2024-10-27                0.0   Dry  Weekend\n",
       "1396 2024-10-28                0.0   Dry  Weekday\n",
       "1397 2024-10-29                0.0   Dry  Weekday\n",
       "1398 2024-10-30                NaN   Dry  Weekday\n",
       "\n",
       "[1399 rows x 4 columns]"
      ]
     },
     "execution_count": 9,
     "metadata": {},
     "output_type": "execute_result"
    }
   ],
   "source": [
    "# wt_df[\"Date\"]에 따라 평일, 주말 나누기(월~금 : 0~4, 토일 : 5, 6)\n",
    "wt_df[\"Day\"] = np.where(wt_df[\"Date\"].dt.weekday < 5, \"Weekday\", \"Weekend\")\n",
    "wt_df\n"
   ]
  },
  {
   "cell_type": "markdown",
   "metadata": {},
   "source": [
    "공휴일 데이터인 hd의 date의 타입 변경"
   ]
  },
  {
   "cell_type": "code",
   "execution_count": 10,
   "metadata": {},
   "outputs": [
    {
     "name": "stdout",
     "output_type": "stream",
     "text": [
      "<class 'pandas.core.frame.DataFrame'>\n",
      "RangeIndex: 66 entries, 0 to 65\n",
      "Data columns (total 2 columns):\n",
      " #   Column    Non-Null Count  Dtype         \n",
      "---  ------    --------------  -----         \n",
      " 0   Date      66 non-null     datetime64[ns]\n",
      " 1   dateName  66 non-null     object        \n",
      "dtypes: datetime64[ns](1), object(1)\n",
      "memory usage: 1.2+ KB\n"
     ]
    }
   ],
   "source": [
    "hd = pd.read_csv('./data/hd_21_24.csv', encoding=\"CP949\")\n",
    "hd.rename(columns={\"일시\":\"date\"}, inplace=True)\n",
    "hd['date'] = pd.to_datetime(hd['date'])\n",
    "hd.columns=['Date', 'dateName']\n",
    "hd.info()"
   ]
  },
  {
   "cell_type": "markdown",
   "metadata": {},
   "source": [
    "fine_dust['Day_type'] 만들어서 평일/주말+공휴일로 나누기 (공휴일은 주말로 처리)"
   ]
  },
  {
   "cell_type": "code",
   "execution_count": 12,
   "metadata": {},
   "outputs": [
    {
     "data": {
      "text/html": [
       "<div>\n",
       "<style scoped>\n",
       "    .dataframe tbody tr th:only-of-type {\n",
       "        vertical-align: middle;\n",
       "    }\n",
       "\n",
       "    .dataframe tbody tr th {\n",
       "        vertical-align: top;\n",
       "    }\n",
       "\n",
       "    .dataframe thead th {\n",
       "        text-align: right;\n",
       "    }\n",
       "</style>\n",
       "<table border=\"1\" class=\"dataframe\">\n",
       "  <thead>\n",
       "    <tr style=\"text-align: right;\">\n",
       "      <th></th>\n",
       "      <th>Date</th>\n",
       "      <th>Precipitation(mm)</th>\n",
       "      <th>Grade</th>\n",
       "      <th>Day</th>\n",
       "      <th>dateName</th>\n",
       "    </tr>\n",
       "  </thead>\n",
       "  <tbody>\n",
       "    <tr>\n",
       "      <th>0</th>\n",
       "      <td>2021-01-01</td>\n",
       "      <td>NaN</td>\n",
       "      <td>Dry</td>\n",
       "      <td>Weekday</td>\n",
       "      <td>1월1일</td>\n",
       "    </tr>\n",
       "    <tr>\n",
       "      <th>1</th>\n",
       "      <td>2021-01-02</td>\n",
       "      <td>NaN</td>\n",
       "      <td>Dry</td>\n",
       "      <td>Weekend</td>\n",
       "      <td>NaN</td>\n",
       "    </tr>\n",
       "    <tr>\n",
       "      <th>2</th>\n",
       "      <td>2021-01-03</td>\n",
       "      <td>NaN</td>\n",
       "      <td>Dry</td>\n",
       "      <td>Weekend</td>\n",
       "      <td>NaN</td>\n",
       "    </tr>\n",
       "    <tr>\n",
       "      <th>3</th>\n",
       "      <td>2021-01-04</td>\n",
       "      <td>0.0</td>\n",
       "      <td>Dry</td>\n",
       "      <td>Weekday</td>\n",
       "      <td>NaN</td>\n",
       "    </tr>\n",
       "    <tr>\n",
       "      <th>4</th>\n",
       "      <td>2021-01-05</td>\n",
       "      <td>0.0</td>\n",
       "      <td>Dry</td>\n",
       "      <td>Weekday</td>\n",
       "      <td>NaN</td>\n",
       "    </tr>\n",
       "  </tbody>\n",
       "</table>\n",
       "</div>"
      ],
      "text/plain": [
       "        Date  Precipitation(mm) Grade      Day dateName\n",
       "0 2021-01-01                NaN   Dry  Weekday     1월1일\n",
       "1 2021-01-02                NaN   Dry  Weekend      NaN\n",
       "2 2021-01-03                NaN   Dry  Weekend      NaN\n",
       "3 2021-01-04                0.0   Dry  Weekday      NaN\n",
       "4 2021-01-05                0.0   Dry  Weekday      NaN"
      ]
     },
     "execution_count": 12,
     "metadata": {},
     "output_type": "execute_result"
    }
   ],
   "source": [
    "# fine_dust와 hd DF 합치기\n",
    "wt_df = pd.merge(wt_df, hd, how='outer', on='Date')\n",
    "wt_df.head()"
   ]
  },
  {
   "cell_type": "code",
   "execution_count": 13,
   "metadata": {},
   "outputs": [],
   "source": [
    "# apply 활용\n",
    "date_name2 = wt_df.apply(lambda row : 'Weekend' \n",
    "                               if str(row['dateName']) != 'nan' else row['Day'], axis=1)"
   ]
  },
  {
   "cell_type": "code",
   "execution_count": 14,
   "metadata": {},
   "outputs": [
    {
     "data": {
      "text/plain": [
       "(        Date  Precipitation(mm) Grade Day_type\n",
       " 0 2021-01-01                NaN   Dry  Weekend,\n",
       "            Date  Precipitation(mm)     Grade Day_type\n",
       " 1328 2024-08-21               42.2  Moderate  Weekday)"
      ]
     },
     "execution_count": 14,
     "metadata": {},
     "output_type": "execute_result"
    }
   ],
   "source": [
    "# apply 활용해서 평일, 주말(+공휴일)로 나눈 값을\n",
    "# 합친 df에 적용하기 \n",
    "wt_df['Day_type'] = date_name2\n",
    "\n",
    "# 필요한 컬럼/행으로 자르기\n",
    "wt_df = wt_df.loc[:, ['Date', 'Precipitation(mm)', 'Grade', 'Day_type']]\n",
    "wt_df = wt_df.iloc[:1329, :]\n",
    "wt_df.head(1), wt_df.tail(1)"
   ]
  },
  {
   "cell_type": "markdown",
   "metadata": {},
   "source": [
    "병합된 DF을 계절별, 연도별로 구분하기"
   ]
  },
  {
   "cell_type": "code",
   "execution_count": 16,
   "metadata": {},
   "outputs": [
    {
     "name": "stdout",
     "output_type": "stream",
     "text": [
      "         Date  Precipitation(mm) Grade Day_type  Season\n",
      "57 2021-02-27                NaN   Dry  Weekend  Winter\n",
      "58 2021-02-28                NaN   Dry  Weekend  Winter\n",
      "          Date  Precipitation(mm)  Grade Day_type  Season\n",
      "145 2021-05-26                0.0    Dry  Weekday  Spring\n",
      "146 2021-05-27                8.9  Light  Weekday  Spring\n",
      "          Date  Precipitation(mm)  Grade Day_type  Season\n",
      "237 2021-08-26                0.7  Light  Weekday  Summer\n",
      "238 2021-08-27                0.9  Light  Weekday  Summer\n",
      "          Date  Precipitation(mm)  Grade Day_type Season\n",
      "325 2021-11-22                1.3  Light  Weekday   Fall\n",
      "326 2021-11-23                NaN    Dry  Weekday   Fall\n"
     ]
    }
   ],
   "source": [
    "# date를 기준으로 계절별 구분 (봄: 3~5, 여름: 6~8, 가을: 9~11, 겨울: 12~2)\n",
    "conditions = [\n",
    "    ( wt_df[\"Date\"].dt.month >= 3 ) & ( wt_df[\"Date\"].dt.month <= 5 ),\n",
    "    ( wt_df[\"Date\"].dt.month >= 6 ) & ( wt_df[\"Date\"].dt.month <= 8 ),\n",
    "    ( wt_df[\"Date\"].dt.month >= 9 ) & ( wt_df[\"Date\"].dt.month <= 11 ),\n",
    "]\n",
    "Season = [\"Spring\", \"Summer\", \"Fall\"]\n",
    "wt_df[\"Season\"] = np.select(conditions, Season, default=\"Winter\")\n",
    "\n",
    "print( wt_df.iloc[57:59, :] )\n",
    "print( wt_df.iloc[145:147, :] )\n",
    "print( wt_df.iloc[237:239, :] )\n",
    "print( wt_df.iloc[325:327, :] )"
   ]
  },
  {
   "cell_type": "code",
   "execution_count": 18,
   "metadata": {},
   "outputs": [
    {
     "name": "stdout",
     "output_type": "stream",
     "text": [
      "          Date  Precipitation(mm)  Grade Day_type  Season  Year\n",
      "356 2021-12-23                NaN    Dry  Weekday  Winter  2021\n",
      "357 2021-12-24                0.2  Light  Weekday  Winter  2021\n",
      "<class 'pandas.core.frame.DataFrame'>\n",
      "RangeIndex: 1329 entries, 0 to 1328\n",
      "Data columns (total 6 columns):\n",
      " #   Column             Non-Null Count  Dtype         \n",
      "---  ------             --------------  -----         \n",
      " 0   Date               1329 non-null   datetime64[ns]\n",
      " 1   Precipitation(mm)  559 non-null    float64       \n",
      " 2   Grade              1329 non-null   object        \n",
      " 3   Day_type           1329 non-null   object        \n",
      " 4   Season             1329 non-null   object        \n",
      " 5   Year               1329 non-null   int32         \n",
      "dtypes: datetime64[ns](1), float64(1), int32(1), object(3)\n",
      "memory usage: 57.2+ KB\n"
     ]
    }
   ],
   "source": [
    "# date를 기준으로 연도 구분\n",
    "wt_df[\"Year\"] = wt_df[\"Date\"].dt.year\n",
    "print( wt_df.iloc[356:358, :] )\n",
    "wt_df.info()"
   ]
  },
  {
   "cell_type": "markdown",
   "metadata": {},
   "source": [
    "결측치 수정 ( 강수량 NaN을 0으로 바꿈 )"
   ]
  },
  {
   "cell_type": "code",
   "execution_count": null,
   "metadata": {},
   "outputs": [
    {
     "name": "stderr",
     "output_type": "stream",
     "text": [
      "C:\\Users\\human\\AppData\\Local\\Temp\\ipykernel_8496\\2003089569.py:1: FutureWarning: A value is trying to be set on a copy of a DataFrame or Series through chained assignment using an inplace method.\n",
      "The behavior will change in pandas 3.0. This inplace method will never work because the intermediate object on which we are setting values always behaves as a copy.\n",
      "\n",
      "For example, when doing 'df[col].method(value, inplace=True)', try using 'df.method({col: value}, inplace=True)' or df[col] = df[col].method(value) instead, to perform the operation inplace on the original object.\n",
      "\n",
      "\n",
      "  wt_df[\"Precipitation(mm)\"].fillna(0, inplace=True)\n"
     ]
    },
    {
     "data": {
      "text/html": [
       "<div>\n",
       "<style scoped>\n",
       "    .dataframe tbody tr th:only-of-type {\n",
       "        vertical-align: middle;\n",
       "    }\n",
       "\n",
       "    .dataframe tbody tr th {\n",
       "        vertical-align: top;\n",
       "    }\n",
       "\n",
       "    .dataframe thead th {\n",
       "        text-align: right;\n",
       "    }\n",
       "</style>\n",
       "<table border=\"1\" class=\"dataframe\">\n",
       "  <thead>\n",
       "    <tr style=\"text-align: right;\">\n",
       "      <th></th>\n",
       "      <th>Date</th>\n",
       "      <th>Precipitation(mm)</th>\n",
       "      <th>Grade</th>\n",
       "      <th>Day_type</th>\n",
       "      <th>Season</th>\n",
       "      <th>Year</th>\n",
       "    </tr>\n",
       "  </thead>\n",
       "  <tbody>\n",
       "    <tr>\n",
       "      <th>0</th>\n",
       "      <td>2021-01-01</td>\n",
       "      <td>0.0</td>\n",
       "      <td>Dry</td>\n",
       "      <td>Weekend</td>\n",
       "      <td>Winter</td>\n",
       "      <td>2021</td>\n",
       "    </tr>\n",
       "    <tr>\n",
       "      <th>1</th>\n",
       "      <td>2021-01-02</td>\n",
       "      <td>0.0</td>\n",
       "      <td>Dry</td>\n",
       "      <td>Weekend</td>\n",
       "      <td>Winter</td>\n",
       "      <td>2021</td>\n",
       "    </tr>\n",
       "  </tbody>\n",
       "</table>\n",
       "</div>"
      ],
      "text/plain": [
       "        Date  Precipitation(mm) Grade Day_type  Season  Year\n",
       "0 2021-01-01                0.0   Dry  Weekend  Winter  2021\n",
       "1 2021-01-02                0.0   Dry  Weekend  Winter  2021"
      ]
     },
     "execution_count": 22,
     "metadata": {},
     "output_type": "execute_result"
    }
   ],
   "source": [
    "wt_df[\"Precipitation(mm)\"].fillna(0, inplace=True)\n",
    "wt_df.head(2)"
   ]
  },
  {
   "cell_type": "code",
   "execution_count": null,
   "metadata": {},
   "outputs": [],
   "source": []
  }
 ],
 "metadata": {
  "kernelspec": {
   "display_name": "human-da-env",
   "language": "python",
   "name": "python3"
  },
  "language_info": {
   "codemirror_mode": {
    "name": "ipython",
    "version": 3
   },
   "file_extension": ".py",
   "mimetype": "text/x-python",
   "name": "python",
   "nbconvert_exporter": "python",
   "pygments_lexer": "ipython3",
   "version": "3.12.7"
  }
 },
 "nbformat": 4,
 "nbformat_minor": 2
}
