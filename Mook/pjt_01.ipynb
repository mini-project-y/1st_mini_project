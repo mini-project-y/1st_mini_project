{
 "cells": [
  {
   "cell_type": "code",
   "execution_count": 1,
   "metadata": {},
   "outputs": [],
   "source": [
    "import pandas as pd\n",
    "import numpy as np\n",
    "import pymysql"
   ]
  },
  {
   "cell_type": "code",
   "execution_count": 2,
   "metadata": {},
   "outputs": [],
   "source": [
    "conn = pymysql.connect(host=\"localhost\", port=3306, db=\"project\", \n",
    "                       user=\"humanda\", password=\"humanda\")"
   ]
  },
  {
   "cell_type": "code",
   "execution_count": 3,
   "metadata": {},
   "outputs": [],
   "source": [
    "cursor = conn.cursor()"
   ]
  },
  {
   "cell_type": "code",
   "execution_count": 4,
   "metadata": {},
   "outputs": [],
   "source": [
    "sql = \"select * from transportation\"\n",
    "sql2 = \"select * from dates\"\n"
   ]
  },
  {
   "cell_type": "code",
   "execution_count": 7,
   "metadata": {},
   "outputs": [
    {
     "name": "stderr",
     "output_type": "stream",
     "text": [
      "C:\\Users\\human\\AppData\\Local\\Temp\\ipykernel_34936\\2068308783.py:1: UserWarning: pandas only supports SQLAlchemy connectable (engine/connection) or database string URI or sqlite3 DBAPI2 connection. Other DBAPI2 objects are not tested. Please consider using SQLAlchemy.\n",
      "  transportation = pd.read_sql_query(sql, conn)\n",
      "C:\\Users\\human\\AppData\\Local\\Temp\\ipykernel_34936\\2068308783.py:2: UserWarning: pandas only supports SQLAlchemy connectable (engine/connection) or database string URI or sqlite3 DBAPI2 connection. Other DBAPI2 objects are not tested. Please consider using SQLAlchemy.\n",
      "  dates = pd.read_sql_query(sql2, conn)\n"
     ]
    }
   ],
   "source": [
    "transportation = pd.read_sql_query(sql, conn)\n",
    "dates = pd.read_sql_query(sql2, conn)"
   ]
  },
  {
   "cell_type": "code",
   "execution_count": 8,
   "metadata": {},
   "outputs": [
    {
     "name": "stdout",
     "output_type": "stream",
     "text": [
      "<class 'pandas.core.frame.DataFrame'>\n",
      "RangeIndex: 213374 entries, 0 to 213373\n",
      "Data columns (total 9 columns):\n",
      " #   Column               Non-Null Count   Dtype  \n",
      "---  ------               --------------   -----  \n",
      " 0   ID                   213374 non-null  int64  \n",
      " 1   date                 213374 non-null  object \n",
      " 2   transportation_mode  213322 non-null  object \n",
      " 3   total_passenger      213374 non-null  int64  \n",
      " 4   general_passenger    211861 non-null  float64\n",
      " 5   child_passenger      94532 non-null   float64\n",
      " 6   youth_passenger      126949 non-null  float64\n",
      " 7   disabled_passenger   32972 non-null   float64\n",
      " 8   elderly_passenger    28933 non-null   float64\n",
      "dtypes: float64(5), int64(2), object(2)\n",
      "memory usage: 14.7+ MB\n",
      "None\n",
      "<class 'pandas.core.frame.DataFrame'>\n",
      "RangeIndex: 1035 entries, 0 to 1034\n",
      "Data columns (total 3 columns):\n",
      " #   Column              Non-Null Count  Dtype \n",
      "---  ------              --------------  ----- \n",
      " 0   ID                  1035 non-null   int64 \n",
      " 1   date                1035 non-null   object\n",
      " 2   holiday_or_weekend  1035 non-null   int64 \n",
      "dtypes: int64(2), object(1)\n",
      "memory usage: 24.4+ KB\n",
      "None\n"
     ]
    }
   ],
   "source": [
    "print(transportation.info())\n",
    "print(dates.info())"
   ]
  },
  {
   "cell_type": "code",
   "execution_count": 10,
   "metadata": {},
   "outputs": [],
   "source": [
    "transportation['transportation_mode'] = transportation['transportation_mode'].str.replace(r'[^가-힣]', '', regex=True).str.replace(' ', '')\n",
    "transportation['date'] = pd.to_datetime(transportation['date'])"
   ]
  },
  {
   "cell_type": "code",
   "execution_count": 13,
   "metadata": {},
   "outputs": [],
   "source": [
    "bus_only_df = transportation[transportation['transportation_mode'] == \"버스\"]\n",
    "train_only_df = transportation[transportation['transportation_mode'] == \"지하철\"]"
   ]
  },
  {
   "cell_type": "code",
   "execution_count": 15,
   "metadata": {},
   "outputs": [],
   "source": [
    "dates['date'] = pd.to_datetime(dates['date'])"
   ]
  },
  {
   "cell_type": "code",
   "execution_count": 26,
   "metadata": {},
   "outputs": [],
   "source": [
    "bus_merged = pd.merge(bus_only_df, dates, on = 'date', how = 'inner')\n",
    "train_merged = pd.merge(train_only_df, dates, on = 'date', how = 'inner')"
   ]
  },
  {
   "cell_type": "code",
   "execution_count": 27,
   "metadata": {},
   "outputs": [],
   "source": [
    "bus_merged = bus_merged.drop(columns=['ID_y'])\n",
    "train_merged = train_merged.drop(columns=['ID_y'])"
   ]
  },
  {
   "cell_type": "code",
   "execution_count": null,
   "metadata": {},
   "outputs": [],
   "source": []
  }
 ],
 "metadata": {
  "kernelspec": {
   "display_name": "human-da-env",
   "language": "python",
   "name": "python3"
  },
  "language_info": {
   "codemirror_mode": {
    "name": "ipython",
    "version": 3
   },
   "file_extension": ".py",
   "mimetype": "text/x-python",
   "name": "python",
   "nbconvert_exporter": "python",
   "pygments_lexer": "ipython3",
   "version": "3.12.7"
  }
 },
 "nbformat": 4,
 "nbformat_minor": 2
}
