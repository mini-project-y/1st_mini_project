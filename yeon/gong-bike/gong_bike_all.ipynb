{
 "cells": [
  {
   "cell_type": "code",
   "execution_count": 1,
   "metadata": {},
   "outputs": [],
   "source": [
    "import pandas as pd"
   ]
  },
  {
   "cell_type": "code",
   "execution_count": 2,
   "metadata": {},
   "outputs": [],
   "source": [
    "df_list = []\n",
    "\n",
    "# 여러 개의 파일에서 데이터 읽기 + 데이터프레임에 저장 + 리스트에 저장\n",
    "\n",
    "for ym in [\"220106\", \"220712\", \"230106\", \"230712\", \"240106\"]:\n",
    "    df = pd.read_csv('../bike-data/bike-data-{0}.csv'.format(ym), encoding='utf-8')\n",
    "    df_list.append(df)"
   ]
  },
  {
   "cell_type": "code",
   "execution_count": 3,
   "metadata": {},
   "outputs": [],
   "source": [
    "for ym in []:\n",
    "    df = pd.read_csv('../bike-')"
   ]
  },
  {
   "cell_type": "code",
   "execution_count": 4,
   "metadata": {},
   "outputs": [],
   "source": [
    "# df_list\n",
    "# df_list에 들어있는 여러 개의 dataframe을 행 방향으로 합치기\n",
    "bike_data_all = pd.concat(df_list) "
   ]
  },
  {
   "cell_type": "code",
   "execution_count": 5,
   "metadata": {},
   "outputs": [],
   "source": [
    "# index 중복 -> index 초기화\n",
    "reset_bike_data_all = bike_data_all.reset_index(drop=True)"
   ]
  },
  {
   "cell_type": "code",
   "execution_count": 6,
   "metadata": {},
   "outputs": [
    {
     "data": {
      "text/html": [
       "<div>\n",
       "<style scoped>\n",
       "    .dataframe tbody tr th:only-of-type {\n",
       "        vertical-align: middle;\n",
       "    }\n",
       "\n",
       "    .dataframe tbody tr th {\n",
       "        vertical-align: top;\n",
       "    }\n",
       "\n",
       "    .dataframe thead th {\n",
       "        text-align: right;\n",
       "    }\n",
       "</style>\n",
       "<table border=\"1\" class=\"dataframe\">\n",
       "  <thead>\n",
       "    <tr style=\"text-align: right;\">\n",
       "      <th></th>\n",
       "      <th>STA_LOC</th>\n",
       "      <th>RENT_NM</th>\n",
       "      <th>STAT_DATA</th>\n",
       "      <th>RENT_CNT</th>\n",
       "      <th>RTN_CNT</th>\n",
       "      <th>START_INDEX</th>\n",
       "      <th>END_INDEX</th>\n",
       "      <th>RNUM</th>\n",
       "    </tr>\n",
       "  </thead>\n",
       "  <tbody>\n",
       "    <tr>\n",
       "      <th>0</th>\n",
       "      <td>마포구</td>\n",
       "      <td>108. 서교동 사거리</td>\n",
       "      <td>2022-01-01</td>\n",
       "      <td>17</td>\n",
       "      <td>30</td>\n",
       "      <td>0</td>\n",
       "      <td>0</td>\n",
       "      <td>1</td>\n",
       "    </tr>\n",
       "    <tr>\n",
       "      <th>1</th>\n",
       "      <td>양천구</td>\n",
       "      <td>729. 서부식자재마트 건너편</td>\n",
       "      <td>2022-01-01</td>\n",
       "      <td>39</td>\n",
       "      <td>38</td>\n",
       "      <td>0</td>\n",
       "      <td>0</td>\n",
       "      <td>2</td>\n",
       "    </tr>\n",
       "    <tr>\n",
       "      <th>2</th>\n",
       "      <td>양천구</td>\n",
       "      <td>731. 서울시 도로환경관리센터</td>\n",
       "      <td>2022-01-01</td>\n",
       "      <td>25</td>\n",
       "      <td>32</td>\n",
       "      <td>0</td>\n",
       "      <td>0</td>\n",
       "      <td>3</td>\n",
       "    </tr>\n",
       "    <tr>\n",
       "      <th>3</th>\n",
       "      <td>양천구</td>\n",
       "      <td>732. 신월중학교</td>\n",
       "      <td>2022-01-01</td>\n",
       "      <td>15</td>\n",
       "      <td>13</td>\n",
       "      <td>0</td>\n",
       "      <td>0</td>\n",
       "      <td>4</td>\n",
       "    </tr>\n",
       "    <tr>\n",
       "      <th>4</th>\n",
       "      <td>양천구</td>\n",
       "      <td>733. 신정이펜하우스314동</td>\n",
       "      <td>2022-01-01</td>\n",
       "      <td>5</td>\n",
       "      <td>1</td>\n",
       "      <td>0</td>\n",
       "      <td>0</td>\n",
       "      <td>5</td>\n",
       "    </tr>\n",
       "    <tr>\n",
       "      <th>...</th>\n",
       "      <td>...</td>\n",
       "      <td>...</td>\n",
       "      <td>...</td>\n",
       "      <td>...</td>\n",
       "      <td>...</td>\n",
       "      <td>...</td>\n",
       "      <td>...</td>\n",
       "      <td>...</td>\n",
       "    </tr>\n",
       "    <tr>\n",
       "      <th>4995</th>\n",
       "      <td>마포구</td>\n",
       "      <td>3003.래미안신공덕3차아파트</td>\n",
       "      <td>2024-01-01</td>\n",
       "      <td>2</td>\n",
       "      <td>2</td>\n",
       "      <td>0</td>\n",
       "      <td>0</td>\n",
       "      <td>996</td>\n",
       "    </tr>\n",
       "    <tr>\n",
       "      <th>4996</th>\n",
       "      <td>마포구</td>\n",
       "      <td>3005.마포구청 청사내</td>\n",
       "      <td>2024-01-01</td>\n",
       "      <td>2</td>\n",
       "      <td>2</td>\n",
       "      <td>0</td>\n",
       "      <td>0</td>\n",
       "      <td>997</td>\n",
       "    </tr>\n",
       "    <tr>\n",
       "      <th>4997</th>\n",
       "      <td>마포구</td>\n",
       "      <td>3006. 상암월드컵파크5단지(상암중학교)</td>\n",
       "      <td>2024-01-01</td>\n",
       "      <td>9</td>\n",
       "      <td>5</td>\n",
       "      <td>0</td>\n",
       "      <td>0</td>\n",
       "      <td>998</td>\n",
       "    </tr>\n",
       "    <tr>\n",
       "      <th>4998</th>\n",
       "      <td>마포구</td>\n",
       "      <td>3007.MBC 앞</td>\n",
       "      <td>2024-01-01</td>\n",
       "      <td>12</td>\n",
       "      <td>10</td>\n",
       "      <td>0</td>\n",
       "      <td>0</td>\n",
       "      <td>999</td>\n",
       "    </tr>\n",
       "    <tr>\n",
       "      <th>4999</th>\n",
       "      <td>마포구</td>\n",
       "      <td>3008.DMC역7번출구</td>\n",
       "      <td>2024-01-01</td>\n",
       "      <td>3</td>\n",
       "      <td>1</td>\n",
       "      <td>0</td>\n",
       "      <td>0</td>\n",
       "      <td>1000</td>\n",
       "    </tr>\n",
       "  </tbody>\n",
       "</table>\n",
       "<p>5000 rows × 8 columns</p>\n",
       "</div>"
      ],
      "text/plain": [
       "     STA_LOC                  RENT_NM   STAT_DATA  RENT_CNT  RTN_CNT  \\\n",
       "0        마포구             108. 서교동 사거리  2022-01-01        17       30   \n",
       "1        양천구         729. 서부식자재마트 건너편  2022-01-01        39       38   \n",
       "2        양천구        731. 서울시 도로환경관리센터  2022-01-01        25       32   \n",
       "3        양천구               732. 신월중학교  2022-01-01        15       13   \n",
       "4        양천구         733. 신정이펜하우스314동  2022-01-01         5        1   \n",
       "...      ...                      ...         ...       ...      ...   \n",
       "4995     마포구         3003.래미안신공덕3차아파트  2024-01-01         2        2   \n",
       "4996     마포구            3005.마포구청 청사내  2024-01-01         2        2   \n",
       "4997     마포구  3006. 상암월드컵파크5단지(상암중학교)  2024-01-01         9        5   \n",
       "4998     마포구               3007.MBC 앞  2024-01-01        12       10   \n",
       "4999     마포구            3008.DMC역7번출구  2024-01-01         3        1   \n",
       "\n",
       "      START_INDEX  END_INDEX  RNUM  \n",
       "0               0          0     1  \n",
       "1               0          0     2  \n",
       "2               0          0     3  \n",
       "3               0          0     4  \n",
       "4               0          0     5  \n",
       "...           ...        ...   ...  \n",
       "4995            0          0   996  \n",
       "4996            0          0   997  \n",
       "4997            0          0   998  \n",
       "4998            0          0   999  \n",
       "4999            0          0  1000  \n",
       "\n",
       "[5000 rows x 8 columns]"
      ]
     },
     "execution_count": 6,
     "metadata": {},
     "output_type": "execute_result"
    }
   ],
   "source": [
    "reset_bike_data_all"
   ]
  },
  {
   "cell_type": "code",
   "execution_count": 7,
   "metadata": {},
   "outputs": [
    {
     "data": {
      "text/plain": [
       "STA_LOC        object\n",
       "RENT_NM        object\n",
       "STAT_DATA      object\n",
       "RENT_CNT        int64\n",
       "RTN_CNT         int64\n",
       "START_INDEX     int64\n",
       "END_INDEX       int64\n",
       "RNUM            int64\n",
       "dtype: object"
      ]
     },
     "execution_count": 7,
     "metadata": {},
     "output_type": "execute_result"
    }
   ],
   "source": [
    "bike_data_all.dtypes"
   ]
  },
  {
   "cell_type": "code",
   "execution_count": 8,
   "metadata": {},
   "outputs": [
    {
     "data": {
      "text/plain": [
       "Index(['STA_LOC', 'RENT_NM', 'STAT_DATA', 'RENT_CNT', 'RTN_CNT', 'START_INDEX',\n",
       "       'END_INDEX', 'RNUM'],\n",
       "      dtype='object')"
      ]
     },
     "execution_count": 8,
     "metadata": {},
     "output_type": "execute_result"
    }
   ],
   "source": [
    "df.columns"
   ]
  },
  {
   "cell_type": "code",
   "execution_count": 9,
   "metadata": {},
   "outputs": [],
   "source": [
    "bike_data_all.rename(columns={'STA_LOC':'지역명','RENT_MN':'대여소명','STAT_DATA':'대여일자','RENT_CNT':'대여건수','RNT_CNT':'반납건수','START_INDEX':'START_INDEX','END_INDEX':'END_INDEX','RNUM':'순번'}, inplace=True)"
   ]
  },
  {
   "cell_type": "code",
   "execution_count": 10,
   "metadata": {},
   "outputs": [
    {
     "data": {
      "text/plain": [
       "Index(['STA_LOC', 'RENT_NM', 'STAT_DATA', 'RENT_CNT', 'RTN_CNT', 'START_INDEX',\n",
       "       'END_INDEX', 'RNUM'],\n",
       "      dtype='object')"
      ]
     },
     "execution_count": 10,
     "metadata": {},
     "output_type": "execute_result"
    }
   ],
   "source": [
    "df.columns"
   ]
  },
  {
   "cell_type": "code",
   "execution_count": 12,
   "metadata": {},
   "outputs": [
    {
     "data": {
      "text/plain": [
       "0      2022-01-01\n",
       "1      2022-01-01\n",
       "2      2022-01-01\n",
       "3      2022-01-01\n",
       "4      2022-01-01\n",
       "          ...    \n",
       "995    2024-01-01\n",
       "996    2024-01-01\n",
       "997    2024-01-01\n",
       "998    2024-01-01\n",
       "999    2024-01-01\n",
       "Name: 대여일자, Length: 5000, dtype: object"
      ]
     },
     "execution_count": 12,
     "metadata": {},
     "output_type": "execute_result"
    }
   ],
   "source": [
    "bike_data_all.get('대여일자')"
   ]
  },
  {
   "cell_type": "code",
   "execution_count": 13,
   "metadata": {},
   "outputs": [],
   "source": [
    "bike_data_all.rename(columns={'RENT_NM':'대여소명'}, inplace=True)"
   ]
  },
  {
   "cell_type": "code",
   "execution_count": 14,
   "metadata": {},
   "outputs": [
    {
     "data": {
      "text/plain": [
       "대여일자\n",
       "2022-01-01    12018\n",
       "2022-07-01    63650\n",
       "2023-01-01    15367\n",
       "2023-07-01    53216\n",
       "2024-01-01    18536\n",
       "Name: 대여건수, dtype: int64"
      ]
     },
     "execution_count": 14,
     "metadata": {},
     "output_type": "execute_result"
    }
   ],
   "source": [
    "# 날짜별 대여건수 \n",
    "daily_rentals = bike_data_all.groupby('대여일자')['대여건수'].sum()\n",
    "daily_rentals"
   ]
  },
  {
   "cell_type": "code",
   "execution_count": null,
   "metadata": {},
   "outputs": [
    {
     "data": {
      "text/plain": [
       "대여소명\n",
       "1023. 한국종합기술사옥 앞        206\n",
       "1024.  강동구청 앞           363\n",
       "1025. 상일초등학교             75\n",
       "1026. 대명초교 입구 교차로        58\n",
       "1027. 프라자 아파트 앞         125\n",
       "                       ... \n",
       "967. 서울혁신파크2             32\n",
       "968. 은평뉴타운 상림마을 13단지     19\n",
       "969. 은평 지웰테라스            14\n",
       "971. 역촌 센트레빌 아파트         55\n",
       "972. 수색역                121\n",
       "Name: 대여건수, Length: 1064, dtype: int64"
      ]
     },
     "execution_count": 82,
     "metadata": {},
     "output_type": "execute_result"
    }
   ],
   "source": [
    "rentals_per_station = bike_data_all.groupby('대여소명')['대여건수'].sum()\n",
    "rentals_per_station"
   ]
  },
  {
   "cell_type": "code",
   "execution_count": 16,
   "metadata": {},
   "outputs": [
    {
     "data": {
      "text/plain": [
       "Index(['지역명', '대여소명', '대여일자', '대여건수', 'RTN_CNT', 'START_INDEX', 'END_INDEX',\n",
       "       '순번'],\n",
       "      dtype='object')"
      ]
     },
     "execution_count": 16,
     "metadata": {},
     "output_type": "execute_result"
    }
   ],
   "source": [
    "bike_data_all.columns"
   ]
  },
  {
   "cell_type": "code",
   "execution_count": 23,
   "metadata": {},
   "outputs": [],
   "source": [
    "bike_data_all['대여년도'] = pd.to_datetime(bike_data_all['대여일자']).dt.year\n",
    "bike_data_all['대여월'] = pd.to_datetime(bike_data_all['대여일자']).dt.month "
   ]
  },
  {
   "cell_type": "code",
   "execution_count": 21,
   "metadata": {},
   "outputs": [
    {
     "data": {
      "text/plain": [
       "0      1\n",
       "1      1\n",
       "2      1\n",
       "3      1\n",
       "4      1\n",
       "      ..\n",
       "995    1\n",
       "996    1\n",
       "997    1\n",
       "998    1\n",
       "999    1\n",
       "Name: 대여월, Length: 5000, dtype: int32"
      ]
     },
     "execution_count": 21,
     "metadata": {},
     "output_type": "execute_result"
    }
   ],
   "source": [
    "bike_data_all['대여월']"
   ]
  },
  {
   "cell_type": "code",
   "execution_count": 26,
   "metadata": {},
   "outputs": [],
   "source": [
    "bike_data_all['대여년도'] = pd.to_datetime(bike_data_all['대여일자']).dt.year "
   ]
  },
  {
   "cell_type": "code",
   "execution_count": 28,
   "metadata": {},
   "outputs": [
    {
     "data": {
      "text/plain": [
       "0      2022\n",
       "1      2022\n",
       "2      2022\n",
       "3      2022\n",
       "4      2022\n",
       "       ... \n",
       "995    2024\n",
       "996    2024\n",
       "997    2024\n",
       "998    2024\n",
       "999    2024\n",
       "Name: 대여년도, Length: 5000, dtype: int32"
      ]
     },
     "execution_count": 28,
     "metadata": {},
     "output_type": "execute_result"
    }
   ],
   "source": [
    "bike_data_all['대여년도']"
   ]
  },
  {
   "cell_type": "code",
   "execution_count": null,
   "metadata": {},
   "outputs": [
    {
     "name": "stdout",
     "output_type": "stream",
     "text": [
      "       대여건수  RTN_CNT         대여율\n",
      "대여년도                            \n",
      "2022  75668    74170  102.019685\n",
      "2023  68583    67658  101.367170\n",
      "2024  18536    18202  101.834963\n"
     ]
    }
   ],
   "source": [
    "# 연도별 대여건수/대여율\n",
    "yearly_rental_data = bike_data_all.groupby('대여년도').agg({'대여건수':'sum', 'RTN_CNT': 'sum'})\n",
    "yearly_rental_data['대여율'] = (yearly_rental_data['대여건수'] / yearly_rental_data['RTN_CNT']) * 100\n",
    "\n",
    "print(yearly_rental_data[['대여건수','RTN_CNT','대여율']])"
   ]
  },
  {
   "cell_type": "code",
   "execution_count": null,
   "metadata": {},
   "outputs": [],
   "source": [
    "df['대여시각'] = pd.to_datetime(bike_data_all['대여일자']).dt.hour \n",
    "\n",
    "def categorize_time(hour): \n",
    "    if 0 <=hour < 6:\n",
    "        return '새벽'\n",
    "    elif 6 <= hour < 12:\n",
    "        return '오전'\n",
    "    elif 12 <= hour < 18:\n",
    "        return '오후'\n",
    "    else:\n",
    "        return '저녁'\n",
    "\n",
    "df['대여시간대'] = bike_data_all['대여시각'].apply(categorize_time) \n",
    "time_period_rentals = bike_data_all.groupby('대여시간대')['대여건수'].sum() \n",
    "print"
   ]
  }
 ],
 "metadata": {
  "kernelspec": {
   "display_name": "human-da-env",
   "language": "python",
   "name": "python3"
  },
  "language_info": {
   "codemirror_mode": {
    "name": "ipython",
    "version": 3
   },
   "file_extension": ".py",
   "mimetype": "text/x-python",
   "name": "python",
   "nbconvert_exporter": "python",
   "pygments_lexer": "ipython3",
   "version": "3.12.7"
  }
 },
 "nbformat": 4,
 "nbformat_minor": 2
}
