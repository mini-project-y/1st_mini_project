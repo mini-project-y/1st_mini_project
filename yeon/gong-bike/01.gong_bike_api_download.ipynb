{
 "cells": [
  {
   "cell_type": "code",
   "execution_count": 28,
   "metadata": {},
   "outputs": [],
   "source": [
    "import requests\n",
    "import pandas as pd\n",
    "import json \n",
    "import time\n",
    "import numpy as np "
   ]
  },
  {
   "cell_type": "code",
   "execution_count": null,
   "metadata": {},
   "outputs": [],
   "source": [
    "# date_range = pd.date_range('2022-01-01', '2024-10-30') # 전체 기간 데이터 조회\n",
    "# date_range = pd.date_range('2023-04-29', '2024-10-30') # 위 기간 실행 중 2023.4.29에 오류 발생해서 28일까지 데이터는 파일로 저장하고 다시 실행\n",
    "date_range = pd.date_range('2023-06-27', '2024-10-30')  # 위 기간 실행 중 2023.6.26에 오류 발생해서 25일까지 데이터는 파일로 저장하고 다시 실행\n",
    "                                                        # 2023.06.26 데이터는 없음 - 27일 데이터부터 조회\n",
    "# print(date_range)\n",
    "\n",
    "service_key = '445754734a6c656f363548676f6665'\n",
    "start, end = 1, 1000\n",
    "all_df_bikes = []\n",
    "for date in date_range:\n",
    "    \n",
    "    print(\"data at {0} will be processed\".format(date))\n",
    "\n",
    "    while True:        \n",
    "        date_string = date.strftime('%Y-%m-%d')\n",
    "        url = 'http://openapi.seoul.go.kr:8088/{0}/json/tbCycleUseStatus/{1}/{2}/{3}'.format(service_key, start, end, date_string)\n",
    "\n",
    "        # API 요청\n",
    "        response = requests.get(url)\n",
    "\n",
    "        # 응답 상태 확인\n",
    "        if response.status_code == 200:\n",
    "\n",
    "            try:\n",
    "                # 요청이 성공했을 경우 내용 출력\n",
    "                # print(response.content)\n",
    "                decoded_response_content = response.content.decode('utf-8')\n",
    "\n",
    "                dict_content = json.loads(decoded_response_content) \n",
    "\n",
    "                df_bike = pd.DataFrame(dict_content['useStatus']['row'])\n",
    "                all_df_bikes.append(df_bike)\n",
    "\n",
    "                total_count = int(dict_content['useStatus']['list_total_count'])\n",
    "                if total_count > end:\n",
    "                    start = end + 1\n",
    "                    if total_count > end + 1000:\n",
    "                        end = end + 1000\n",
    "                    else:\n",
    "                        end = total_count\n",
    "                else:\n",
    "                    start, end = 1, 1000\n",
    "                    break\n",
    "\n",
    "            except Exception as e:\n",
    "                print(e)\n",
    "                time.sleep(1)                \n",
    "                \n",
    "        else:\n",
    "            # 오류가 발생했을 경우 상태 코드 출력\n",
    "            print(f\"Request failed with status code: {response.status_code}\")\n",
    "\n",
    "\n"
   ]
  },
  {
   "cell_type": "code",
   "execution_count": null,
   "metadata": {},
   "outputs": [],
   "source": [
    "# 데이터 테스트 \n",
    "len(all_df_bikes)\n",
    "all_df_bikes[-2]"
   ]
  },
  {
   "cell_type": "code",
   "execution_count": 48,
   "metadata": {},
   "outputs": [
    {
     "data": {
      "text/plain": [
       "1476"
      ]
     },
     "execution_count": 48,
     "metadata": {},
     "output_type": "execute_result"
    }
   ],
   "source": [
    "len(all_df_bikes)"
   ]
  },
  {
   "cell_type": "code",
   "execution_count": null,
   "metadata": {},
   "outputs": [],
   "source": [
    "# 데이터 병합\n",
    "merged_df_bikes = pd.concat(all_df_bikes)"
   ]
  },
  {
   "cell_type": "code",
   "execution_count": null,
   "metadata": {},
   "outputs": [],
   "source": [
    "# 데이터 병합 테스트\n",
    "print( merged_df_bikes.shape )\n",
    "merged_df_bikes.head()"
   ]
  },
  {
   "cell_type": "code",
   "execution_count": null,
   "metadata": {},
   "outputs": [],
   "source": [
    "# 데이터 csv로 저장\n",
    "# 하나의 파일로 저장되어야하지만, 다운로드과정에 오류가 있어서 기간별로 저장\n",
    "# merged_df_bikes.to_csv(\"../bike-data/bike-data-20220101-20230428.csv\", index=False)\n",
    "# merged_df_bikes.to_csv(\"../bike-data/bike-data-20230429-20230625.csv\", index=False)\n",
    "merged_df_bikes.to_csv(\"../bike-data/bike-data-20230627-20241030.csv\", index=False)"
   ]
  }
 ],
 "metadata": {
  "kernelspec": {
   "display_name": "human-da-env",
   "language": "python",
   "name": "python3"
  },
  "language_info": {
   "codemirror_mode": {
    "name": "ipython",
    "version": 3
   },
   "file_extension": ".py",
   "mimetype": "text/x-python",
   "name": "python",
   "nbconvert_exporter": "python",
   "pygments_lexer": "ipython3",
   "version": "3.12.7"
  }
 },
 "nbformat": 4,
 "nbformat_minor": 2
}
