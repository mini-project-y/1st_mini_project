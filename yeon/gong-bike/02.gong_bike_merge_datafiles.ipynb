{
 "cells": [
  {
   "cell_type": "code",
   "execution_count": 28,
   "metadata": {},
   "outputs": [],
   "source": [
    "import requests\n",
    "import pandas as pd\n",
    "import json \n",
    "import time\n",
    "import numpy as np "
   ]
  },
  {
   "cell_type": "code",
   "execution_count": null,
   "metadata": {},
   "outputs": [
    {
     "name": "stdout",
     "output_type": "stream",
     "text": [
      "Reading file: ../bike-data/bike-data-20220101-20230428.csv\n",
      "Reading file: ../bike-data/bike-data-20230429-20230625.csv\n",
      "Reading file: ../bike-data/bike-data-20230627-20241030.csv\n"
     ]
    }
   ],
   "source": [
    "# api에서 다운로드할때 파일을 나눠서 저장했기때문에 각각 읽어서 병합해서 저장\n",
    "\n",
    "import pandas as pd\n",
    "\n",
    "df_list2 = []\n",
    "\n",
    "# 여러 개의 파일에서 데이터 읽기 + 데이터프레임에 저장 + 리스트에 저장\n",
    "for ym in [\"20220101-20230428\", \"20230429-20230625\", \"20230627-20241030\"]:\n",
    "    file_path = f'../bike-data/bike-data-{ym}.csv'  # 파일 경로\n",
    "    print(f\"Reading file: {file_path}\")  # 파일 경로 출력\n",
    "    \n",
    "    # 파일을 읽어서 데이터프레임으로 저장\n",
    "    df = pd.read_csv(file_path, encoding='utf-8')\n",
    "    \n",
    "    # 데이터프레임 리스트에 추가\n",
    "    df_list2.append(df)\n",
    "\n",
    "# 데이터프레임 리스트를 하나로 합침\n",
    "merged_df_bikes = pd.concat(df_list2, ignore_index=True)\n",
    "\n",
    "# 병합된 데이터프레임 확인\n",
    "merged_df_bikes.head()\n",
    "\n",
    "# 병합된 데이터프레임을 CSV로 저장\n",
    "merged_df_bikes.to_csv('../bike-data/merged_bike_data.csv', index=False)\n"
   ]
  }
 ],
 "metadata": {
  "kernelspec": {
   "display_name": "human-da-env",
   "language": "python",
   "name": "python3"
  },
  "language_info": {
   "codemirror_mode": {
    "name": "ipython",
    "version": 3
   },
   "file_extension": ".py",
   "mimetype": "text/x-python",
   "name": "python",
   "nbconvert_exporter": "python",
   "pygments_lexer": "ipython3",
   "version": "3.12.7"
  }
 },
 "nbformat": 4,
 "nbformat_minor": 2
}
